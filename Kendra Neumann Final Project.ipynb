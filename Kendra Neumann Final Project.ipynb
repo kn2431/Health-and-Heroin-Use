{
 "cells": [
  {
   "cell_type": "code",
   "execution_count": 1,
   "metadata": {},
   "outputs": [],
   "source": [
    "import pandas as pd\n",
    "import matplotlib.pyplot as plt\n",
    "import numpy as np\n",
    "#This imported important packs "
   ]
  },
  {
   "cell_type": "code",
   "execution_count": 2,
   "metadata": {
    "scrolled": false
   },
   "outputs": [
    {
     "data": {
      "text/html": [
       "<div>\n",
       "<style scoped>\n",
       "    .dataframe tbody tr th:only-of-type {\n",
       "        vertical-align: middle;\n",
       "    }\n",
       "\n",
       "    .dataframe tbody tr th {\n",
       "        vertical-align: top;\n",
       "    }\n",
       "\n",
       "    .dataframe thead th {\n",
       "        text-align: right;\n",
       "    }\n",
       "</style>\n",
       "<table border=\"1\" class=\"dataframe\">\n",
       "  <thead>\n",
       "    <tr style=\"text-align: right;\">\n",
       "      <th></th>\n",
       "      <th>QUESTID2</th>\n",
       "      <th>Heroin Age</th>\n",
       "      <th>Heroin Ever</th>\n",
       "      <th>Hep B/C Ever</th>\n",
       "      <th>Hep B/C Age</th>\n",
       "      <th>Unmet MH Need</th>\n",
       "      <th>K6 Psych Distress Score</th>\n",
       "      <th>Psych Distress</th>\n",
       "      <th>WHODAS</th>\n",
       "      <th>MDE Ever</th>\n",
       "      <th>Health</th>\n",
       "      <th>Gender</th>\n",
       "      <th>Race</th>\n",
       "      <th>Education</th>\n",
       "      <th>Employment</th>\n",
       "      <th>Insurance</th>\n",
       "      <th>Govt Program</th>\n",
       "      <th>Income Level</th>\n",
       "      <th>Below Poverty</th>\n",
       "    </tr>\n",
       "  </thead>\n",
       "  <tbody>\n",
       "    <tr>\n",
       "      <th>0</th>\n",
       "      <td>39374400</td>\n",
       "      <td>NaN</td>\n",
       "      <td>No</td>\n",
       "      <td>NaN</td>\n",
       "      <td>NaN</td>\n",
       "      <td>No</td>\n",
       "      <td>8.0</td>\n",
       "      <td>No</td>\n",
       "      <td>8.0</td>\n",
       "      <td>No</td>\n",
       "      <td>1.0</td>\n",
       "      <td>Male</td>\n",
       "      <td>White</td>\n",
       "      <td>HS Grad</td>\n",
       "      <td>Full Time</td>\n",
       "      <td>No</td>\n",
       "      <td>Yes</td>\n",
       "      <td>2</td>\n",
       "      <td>Yes</td>\n",
       "    </tr>\n",
       "    <tr>\n",
       "      <th>1</th>\n",
       "      <td>23395500</td>\n",
       "      <td>NaN</td>\n",
       "      <td>No</td>\n",
       "      <td>NaN</td>\n",
       "      <td>NaN</td>\n",
       "      <td>No</td>\n",
       "      <td>9.0</td>\n",
       "      <td>No</td>\n",
       "      <td>0.0</td>\n",
       "      <td>Yes</td>\n",
       "      <td>1.0</td>\n",
       "      <td>Female</td>\n",
       "      <td>White</td>\n",
       "      <td>Some College</td>\n",
       "      <td>Part Time</td>\n",
       "      <td>Yes</td>\n",
       "      <td>No</td>\n",
       "      <td>2</td>\n",
       "      <td>No</td>\n",
       "    </tr>\n",
       "    <tr>\n",
       "      <th>2</th>\n",
       "      <td>41595500</td>\n",
       "      <td>NaN</td>\n",
       "      <td>No</td>\n",
       "      <td>NaN</td>\n",
       "      <td>NaN</td>\n",
       "      <td>No</td>\n",
       "      <td>3.0</td>\n",
       "      <td>No</td>\n",
       "      <td>2.0</td>\n",
       "      <td>No</td>\n",
       "      <td>2.0</td>\n",
       "      <td>Male</td>\n",
       "      <td>White</td>\n",
       "      <td>College Grad</td>\n",
       "      <td>Part Time</td>\n",
       "      <td>Yes</td>\n",
       "      <td>No</td>\n",
       "      <td>4</td>\n",
       "      <td>No</td>\n",
       "    </tr>\n",
       "    <tr>\n",
       "      <th>3</th>\n",
       "      <td>63105500</td>\n",
       "      <td>20.0</td>\n",
       "      <td>Yes</td>\n",
       "      <td>No</td>\n",
       "      <td>NaN</td>\n",
       "      <td>No</td>\n",
       "      <td>1.0</td>\n",
       "      <td>No</td>\n",
       "      <td>0.0</td>\n",
       "      <td>Yes</td>\n",
       "      <td>3.0</td>\n",
       "      <td>Male</td>\n",
       "      <td>White</td>\n",
       "      <td>Some College</td>\n",
       "      <td>Full Time</td>\n",
       "      <td>Yes</td>\n",
       "      <td>Yes</td>\n",
       "      <td>2</td>\n",
       "      <td>No</td>\n",
       "    </tr>\n",
       "    <tr>\n",
       "      <th>4</th>\n",
       "      <td>14815500</td>\n",
       "      <td>NaN</td>\n",
       "      <td>No</td>\n",
       "      <td>NaN</td>\n",
       "      <td>NaN</td>\n",
       "      <td>No</td>\n",
       "      <td>1.0</td>\n",
       "      <td>No</td>\n",
       "      <td>0.0</td>\n",
       "      <td>No</td>\n",
       "      <td>1.0</td>\n",
       "      <td>Female</td>\n",
       "      <td>Multiracial</td>\n",
       "      <td>NaN</td>\n",
       "      <td>NaN</td>\n",
       "      <td>Yes</td>\n",
       "      <td>No</td>\n",
       "      <td>4</td>\n",
       "      <td>No</td>\n",
       "    </tr>\n",
       "    <tr>\n",
       "      <th>...</th>\n",
       "      <td>...</td>\n",
       "      <td>...</td>\n",
       "      <td>...</td>\n",
       "      <td>...</td>\n",
       "      <td>...</td>\n",
       "      <td>...</td>\n",
       "      <td>...</td>\n",
       "      <td>...</td>\n",
       "      <td>...</td>\n",
       "      <td>...</td>\n",
       "      <td>...</td>\n",
       "      <td>...</td>\n",
       "      <td>...</td>\n",
       "      <td>...</td>\n",
       "      <td>...</td>\n",
       "      <td>...</td>\n",
       "      <td>...</td>\n",
       "      <td>...</td>\n",
       "      <td>...</td>\n",
       "    </tr>\n",
       "    <tr>\n",
       "      <th>30762</th>\n",
       "      <td>63883400</td>\n",
       "      <td>NaN</td>\n",
       "      <td>No</td>\n",
       "      <td>NaN</td>\n",
       "      <td>NaN</td>\n",
       "      <td>No</td>\n",
       "      <td>15.0</td>\n",
       "      <td>Yes</td>\n",
       "      <td>20.0</td>\n",
       "      <td>Yes</td>\n",
       "      <td>4.0</td>\n",
       "      <td>Male</td>\n",
       "      <td>Hispanic</td>\n",
       "      <td>Some College</td>\n",
       "      <td>Full Time</td>\n",
       "      <td>Yes</td>\n",
       "      <td>No</td>\n",
       "      <td>2</td>\n",
       "      <td>No</td>\n",
       "    </tr>\n",
       "    <tr>\n",
       "      <th>30763</th>\n",
       "      <td>89614400</td>\n",
       "      <td>NaN</td>\n",
       "      <td>No</td>\n",
       "      <td>No</td>\n",
       "      <td>NaN</td>\n",
       "      <td>No</td>\n",
       "      <td>2.0</td>\n",
       "      <td>No</td>\n",
       "      <td>5.0</td>\n",
       "      <td>No</td>\n",
       "      <td>3.0</td>\n",
       "      <td>Male</td>\n",
       "      <td>White</td>\n",
       "      <td>HS Grad</td>\n",
       "      <td>Part Time</td>\n",
       "      <td>Yes</td>\n",
       "      <td>Yes</td>\n",
       "      <td>1</td>\n",
       "      <td>Yes</td>\n",
       "    </tr>\n",
       "    <tr>\n",
       "      <th>30764</th>\n",
       "      <td>43544400</td>\n",
       "      <td>NaN</td>\n",
       "      <td>No</td>\n",
       "      <td>NaN</td>\n",
       "      <td>NaN</td>\n",
       "      <td>No</td>\n",
       "      <td>9.0</td>\n",
       "      <td>No</td>\n",
       "      <td>8.0</td>\n",
       "      <td>No</td>\n",
       "      <td>1.0</td>\n",
       "      <td>Male</td>\n",
       "      <td>White</td>\n",
       "      <td>HS Grad</td>\n",
       "      <td>Full Time</td>\n",
       "      <td>Yes</td>\n",
       "      <td>No</td>\n",
       "      <td>4</td>\n",
       "      <td>No</td>\n",
       "    </tr>\n",
       "    <tr>\n",
       "      <th>30765</th>\n",
       "      <td>86864400</td>\n",
       "      <td>NaN</td>\n",
       "      <td>No</td>\n",
       "      <td>NaN</td>\n",
       "      <td>NaN</td>\n",
       "      <td>No</td>\n",
       "      <td>2.0</td>\n",
       "      <td>No</td>\n",
       "      <td>3.0</td>\n",
       "      <td>No</td>\n",
       "      <td>1.0</td>\n",
       "      <td>Female</td>\n",
       "      <td>Multiracial</td>\n",
       "      <td>Some College</td>\n",
       "      <td>Part Time</td>\n",
       "      <td>No</td>\n",
       "      <td>No</td>\n",
       "      <td>2</td>\n",
       "      <td>No</td>\n",
       "    </tr>\n",
       "    <tr>\n",
       "      <th>30766</th>\n",
       "      <td>93164400</td>\n",
       "      <td>NaN</td>\n",
       "      <td>No</td>\n",
       "      <td>NaN</td>\n",
       "      <td>NaN</td>\n",
       "      <td>No</td>\n",
       "      <td>7.0</td>\n",
       "      <td>No</td>\n",
       "      <td>10.0</td>\n",
       "      <td>No</td>\n",
       "      <td>2.0</td>\n",
       "      <td>Female</td>\n",
       "      <td>White</td>\n",
       "      <td>Some College</td>\n",
       "      <td>Unemployed</td>\n",
       "      <td>No</td>\n",
       "      <td>No</td>\n",
       "      <td>2</td>\n",
       "      <td>No</td>\n",
       "    </tr>\n",
       "  </tbody>\n",
       "</table>\n",
       "<p>30767 rows × 19 columns</p>\n",
       "</div>"
      ],
      "text/plain": [
       "       QUESTID2  Heroin Age Heroin Ever Hep B/C Ever  Hep B/C Age  \\\n",
       "0      39374400         NaN          No          NaN          NaN   \n",
       "1      23395500         NaN          No          NaN          NaN   \n",
       "2      41595500         NaN          No          NaN          NaN   \n",
       "3      63105500        20.0         Yes           No          NaN   \n",
       "4      14815500         NaN          No          NaN          NaN   \n",
       "...         ...         ...         ...          ...          ...   \n",
       "30762  63883400         NaN          No          NaN          NaN   \n",
       "30763  89614400         NaN          No           No          NaN   \n",
       "30764  43544400         NaN          No          NaN          NaN   \n",
       "30765  86864400         NaN          No          NaN          NaN   \n",
       "30766  93164400         NaN          No          NaN          NaN   \n",
       "\n",
       "      Unmet MH Need  K6 Psych Distress Score Psych Distress  WHODAS MDE Ever  \\\n",
       "0                No                      8.0             No     8.0       No   \n",
       "1                No                      9.0             No     0.0      Yes   \n",
       "2                No                      3.0             No     2.0       No   \n",
       "3                No                      1.0             No     0.0      Yes   \n",
       "4                No                      1.0             No     0.0       No   \n",
       "...             ...                      ...            ...     ...      ...   \n",
       "30762            No                     15.0            Yes    20.0      Yes   \n",
       "30763            No                      2.0             No     5.0       No   \n",
       "30764            No                      9.0             No     8.0       No   \n",
       "30765            No                      2.0             No     3.0       No   \n",
       "30766            No                      7.0             No    10.0       No   \n",
       "\n",
       "       Health  Gender         Race       Education  Employment Insurance  \\\n",
       "0         1.0    Male        White         HS Grad   Full Time        No   \n",
       "1         1.0  Female        White  Some College     Part Time       Yes   \n",
       "2         2.0    Male        White  College Grad     Part Time       Yes   \n",
       "3         3.0    Male        White  Some College     Full Time       Yes   \n",
       "4         1.0  Female  Multiracial             NaN         NaN       Yes   \n",
       "...       ...     ...          ...             ...         ...       ...   \n",
       "30762     4.0    Male     Hispanic  Some College     Full Time       Yes   \n",
       "30763     3.0    Male        White         HS Grad   Part Time       Yes   \n",
       "30764     1.0    Male        White         HS Grad   Full Time       Yes   \n",
       "30765     1.0  Female  Multiracial  Some College     Part Time        No   \n",
       "30766     2.0  Female        White  Some College    Unemployed        No   \n",
       "\n",
       "      Govt Program  Income Level Below Poverty   \n",
       "0              Yes             2            Yes  \n",
       "1               No             2             No  \n",
       "2               No             4             No  \n",
       "3              Yes             2             No  \n",
       "4               No             4             No  \n",
       "...            ...           ...            ...  \n",
       "30762           No             2             No  \n",
       "30763          Yes             1            Yes  \n",
       "30764           No             4             No  \n",
       "30765           No             2             No  \n",
       "30766           No             2             No  \n",
       "\n",
       "[30767 rows x 19 columns]"
      ]
     },
     "execution_count": 2,
     "metadata": {},
     "output_type": "execute_result"
    }
   ],
   "source": [
    "df=pd.read_csv(r'/Users/kendraneumann/Python Labs/NSDUH2.0.csv')\n",
    "df\n",
    "#This uploaded the dataset"
   ]
  },
  {
   "cell_type": "code",
   "execution_count": 3,
   "metadata": {},
   "outputs": [
    {
     "data": {
      "text/plain": [
       "No     30267\n",
       "Yes      500\n",
       "Name: Heroin Ever, dtype: int64"
      ]
     },
     "execution_count": 3,
     "metadata": {},
     "output_type": "execute_result"
    }
   ],
   "source": [
    "df['Heroin Ever'].value_counts()\n",
    "#This counted the number of heroin users vs non-users"
   ]
  },
  {
   "cell_type": "code",
   "execution_count": 4,
   "metadata": {},
   "outputs": [],
   "source": [
    "def CI_prop(s, n):\n",
    "    p = s / n\n",
    "    se2 = p * (1-p) / n\n",
    "    se = np.sqrt(se2)\n",
    "    low = p - 1.96 * se\n",
    "    up = p + 1.96 * se\n",
    "    print('Sample proportion is:', p)\n",
    "    print('95% CI is: ({}, {})'.format(low, up))\n",
    "#This defined how to find CIs for proportions"
   ]
  },
  {
   "cell_type": "code",
   "execution_count": 5,
   "metadata": {},
   "outputs": [
    {
     "name": "stdout",
     "output_type": "stream",
     "text": [
      "Sample proportion is: 0.016251178210420256\n",
      "95% CI is: (0.0148383217734347, 0.01766403464740581)\n"
     ]
    }
   ],
   "source": [
    "CI_prop(500, 30767)\n",
    "#This found the CI for the proportion of people in the US who use heroin"
   ]
  },
  {
   "cell_type": "code",
   "execution_count": 6,
   "metadata": {},
   "outputs": [
    {
     "data": {
      "text/html": [
       "<div>\n",
       "<style scoped>\n",
       "    .dataframe tbody tr th:only-of-type {\n",
       "        vertical-align: middle;\n",
       "    }\n",
       "\n",
       "    .dataframe tbody tr th {\n",
       "        vertical-align: top;\n",
       "    }\n",
       "\n",
       "    .dataframe thead th {\n",
       "        text-align: right;\n",
       "    }\n",
       "</style>\n",
       "<table border=\"1\" class=\"dataframe\">\n",
       "  <thead>\n",
       "    <tr style=\"text-align: right;\">\n",
       "      <th></th>\n",
       "      <th>Heroin Ever</th>\n",
       "      <th>Education</th>\n",
       "    </tr>\n",
       "  </thead>\n",
       "  <tbody>\n",
       "    <tr>\n",
       "      <th>0</th>\n",
       "      <td>No</td>\n",
       "      <td>HS Grad</td>\n",
       "    </tr>\n",
       "    <tr>\n",
       "      <th>1</th>\n",
       "      <td>No</td>\n",
       "      <td>Some College</td>\n",
       "    </tr>\n",
       "    <tr>\n",
       "      <th>2</th>\n",
       "      <td>No</td>\n",
       "      <td>College Grad</td>\n",
       "    </tr>\n",
       "    <tr>\n",
       "      <th>3</th>\n",
       "      <td>Yes</td>\n",
       "      <td>Some College</td>\n",
       "    </tr>\n",
       "    <tr>\n",
       "      <th>5</th>\n",
       "      <td>No</td>\n",
       "      <td>College Grad</td>\n",
       "    </tr>\n",
       "    <tr>\n",
       "      <th>...</th>\n",
       "      <td>...</td>\n",
       "      <td>...</td>\n",
       "    </tr>\n",
       "    <tr>\n",
       "      <th>30762</th>\n",
       "      <td>No</td>\n",
       "      <td>Some College</td>\n",
       "    </tr>\n",
       "    <tr>\n",
       "      <th>30763</th>\n",
       "      <td>No</td>\n",
       "      <td>HS Grad</td>\n",
       "    </tr>\n",
       "    <tr>\n",
       "      <th>30764</th>\n",
       "      <td>No</td>\n",
       "      <td>HS Grad</td>\n",
       "    </tr>\n",
       "    <tr>\n",
       "      <th>30765</th>\n",
       "      <td>No</td>\n",
       "      <td>Some College</td>\n",
       "    </tr>\n",
       "    <tr>\n",
       "      <th>30766</th>\n",
       "      <td>No</td>\n",
       "      <td>Some College</td>\n",
       "    </tr>\n",
       "  </tbody>\n",
       "</table>\n",
       "<p>22995 rows × 2 columns</p>\n",
       "</div>"
      ],
      "text/plain": [
       "      Heroin Ever       Education\n",
       "0              No         HS Grad\n",
       "1              No  Some College  \n",
       "2              No  College Grad  \n",
       "3             Yes  Some College  \n",
       "5              No  College Grad  \n",
       "...           ...             ...\n",
       "30762          No  Some College  \n",
       "30763          No         HS Grad\n",
       "30764          No         HS Grad\n",
       "30765          No  Some College  \n",
       "30766          No  Some College  \n",
       "\n",
       "[22995 rows x 2 columns]"
      ]
     },
     "execution_count": 6,
     "metadata": {},
     "output_type": "execute_result"
    }
   ],
   "source": [
    "df1=df[['Heroin Ever','Education']]\n",
    "df1=df1.dropna()\n",
    "df1\n",
    "#This found necessary columns and dropped NaNs for heroin use and education level"
   ]
  },
  {
   "cell_type": "code",
   "execution_count": 7,
   "metadata": {
    "scrolled": false
   },
   "outputs": [
    {
     "data": {
      "text/html": [
       "<div>\n",
       "<style scoped>\n",
       "    .dataframe tbody tr th:only-of-type {\n",
       "        vertical-align: middle;\n",
       "    }\n",
       "\n",
       "    .dataframe tbody tr th {\n",
       "        vertical-align: top;\n",
       "    }\n",
       "\n",
       "    .dataframe thead th {\n",
       "        text-align: right;\n",
       "    }\n",
       "</style>\n",
       "<table border=\"1\" class=\"dataframe\">\n",
       "  <thead>\n",
       "    <tr style=\"text-align: right;\">\n",
       "      <th>Heroin Ever</th>\n",
       "      <th>No</th>\n",
       "      <th>Yes</th>\n",
       "    </tr>\n",
       "    <tr>\n",
       "      <th>Education</th>\n",
       "      <th></th>\n",
       "      <th></th>\n",
       "    </tr>\n",
       "  </thead>\n",
       "  <tbody>\n",
       "    <tr>\n",
       "      <th>College Grad</th>\n",
       "      <td>6090</td>\n",
       "      <td>55</td>\n",
       "    </tr>\n",
       "    <tr>\n",
       "      <th>HS Grad</th>\n",
       "      <td>5861</td>\n",
       "      <td>163</td>\n",
       "    </tr>\n",
       "    <tr>\n",
       "      <th>Less than HS</th>\n",
       "      <td>2869</td>\n",
       "      <td>91</td>\n",
       "    </tr>\n",
       "    <tr>\n",
       "      <th>Some College</th>\n",
       "      <td>7685</td>\n",
       "      <td>181</td>\n",
       "    </tr>\n",
       "  </tbody>\n",
       "</table>\n",
       "</div>"
      ],
      "text/plain": [
       "Heroin Ever       No  Yes\n",
       "Education                \n",
       "College Grad    6090   55\n",
       "HS Grad         5861  163\n",
       "Less than HS    2869   91\n",
       "Some College    7685  181"
      ]
     },
     "execution_count": 7,
     "metadata": {},
     "output_type": "execute_result"
    }
   ],
   "source": [
    "table1 = pd.crosstab(index=df1[\"Education\"], columns=df1[\"Heroin Ever\"]) \n",
    "table1\n",
    "#This created a two-way table for heroin and education use"
   ]
  },
  {
   "cell_type": "code",
   "execution_count": 8,
   "metadata": {},
   "outputs": [
    {
     "data": {
      "text/html": [
       "<div>\n",
       "<style scoped>\n",
       "    .dataframe tbody tr th:only-of-type {\n",
       "        vertical-align: middle;\n",
       "    }\n",
       "\n",
       "    .dataframe tbody tr th {\n",
       "        vertical-align: top;\n",
       "    }\n",
       "\n",
       "    .dataframe thead th {\n",
       "        text-align: right;\n",
       "    }\n",
       "</style>\n",
       "<table border=\"1\" class=\"dataframe\">\n",
       "  <thead>\n",
       "    <tr style=\"text-align: right;\">\n",
       "      <th></th>\n",
       "      <th>Yes</th>\n",
       "      <th>No</th>\n",
       "    </tr>\n",
       "  </thead>\n",
       "  <tbody>\n",
       "    <tr>\n",
       "      <th>Less than HS</th>\n",
       "      <td>91</td>\n",
       "      <td>2869</td>\n",
       "    </tr>\n",
       "    <tr>\n",
       "      <th>HS Grad</th>\n",
       "      <td>163</td>\n",
       "      <td>5861</td>\n",
       "    </tr>\n",
       "    <tr>\n",
       "      <th>Some College</th>\n",
       "      <td>181</td>\n",
       "      <td>7685</td>\n",
       "    </tr>\n",
       "    <tr>\n",
       "      <th>College Grad</th>\n",
       "      <td>55</td>\n",
       "      <td>6090</td>\n",
       "    </tr>\n",
       "  </tbody>\n",
       "</table>\n",
       "</div>"
      ],
      "text/plain": [
       "              Yes    No\n",
       "Less than HS   91  2869\n",
       "HS Grad       163  5861\n",
       "Some College  181  7685\n",
       "College Grad   55  6090"
      ]
     },
     "execution_count": 8,
     "metadata": {},
     "output_type": "execute_result"
    }
   ],
   "source": [
    "table1a=pd.DataFrame({'Yes': [91,163,181,55], 'No': [2869,5861,7685,6090]}, \n",
    "                     index=['Less than HS','HS Grad','Some College','College Grad'])\n",
    "table1a\n",
    "#This was a recreation of the table, because the original table did not recognize 'some college'"
   ]
  },
  {
   "cell_type": "code",
   "execution_count": 9,
   "metadata": {
    "scrolled": false
   },
   "outputs": [
    {
     "data": {
      "text/html": [
       "<div>\n",
       "<style scoped>\n",
       "    .dataframe tbody tr th:only-of-type {\n",
       "        vertical-align: middle;\n",
       "    }\n",
       "\n",
       "    .dataframe tbody tr th {\n",
       "        vertical-align: top;\n",
       "    }\n",
       "\n",
       "    .dataframe thead th {\n",
       "        text-align: right;\n",
       "    }\n",
       "</style>\n",
       "<table border=\"1\" class=\"dataframe\">\n",
       "  <thead>\n",
       "    <tr style=\"text-align: right;\">\n",
       "      <th></th>\n",
       "      <th>Yes</th>\n",
       "      <th>No</th>\n",
       "      <th>User_per</th>\n",
       "      <th>NonUser_per</th>\n",
       "    </tr>\n",
       "  </thead>\n",
       "  <tbody>\n",
       "    <tr>\n",
       "      <th>Less than HS</th>\n",
       "      <td>91</td>\n",
       "      <td>2869</td>\n",
       "      <td>0.185714</td>\n",
       "      <td>0.127483</td>\n",
       "    </tr>\n",
       "    <tr>\n",
       "      <th>HS Grad</th>\n",
       "      <td>163</td>\n",
       "      <td>5861</td>\n",
       "      <td>0.332653</td>\n",
       "      <td>0.260431</td>\n",
       "    </tr>\n",
       "    <tr>\n",
       "      <th>Some College</th>\n",
       "      <td>181</td>\n",
       "      <td>7685</td>\n",
       "      <td>0.369388</td>\n",
       "      <td>0.341480</td>\n",
       "    </tr>\n",
       "    <tr>\n",
       "      <th>College Grad</th>\n",
       "      <td>55</td>\n",
       "      <td>6090</td>\n",
       "      <td>0.112245</td>\n",
       "      <td>0.270607</td>\n",
       "    </tr>\n",
       "  </tbody>\n",
       "</table>\n",
       "</div>"
      ],
      "text/plain": [
       "              Yes    No  User_per  NonUser_per\n",
       "Less than HS   91  2869  0.185714     0.127483\n",
       "HS Grad       163  5861  0.332653     0.260431\n",
       "Some College  181  7685  0.369388     0.341480\n",
       "College Grad   55  6090  0.112245     0.270607"
      ]
     },
     "execution_count": 9,
     "metadata": {},
     "output_type": "execute_result"
    }
   ],
   "source": [
    "table1a['User_per'] = table1a['Yes'] / sum(table1a['Yes'])\n",
    "table1a['NonUser_per'] = table1a['No'] / sum(table1a['No'])\n",
    "table1a\n",
    "#This found proportions for heroin users vs not based on education level, so they could be compared"
   ]
  },
  {
   "cell_type": "code",
   "execution_count": 10,
   "metadata": {},
   "outputs": [
    {
     "data": {
      "text/html": [
       "<div>\n",
       "<style scoped>\n",
       "    .dataframe tbody tr th:only-of-type {\n",
       "        vertical-align: middle;\n",
       "    }\n",
       "\n",
       "    .dataframe tbody tr th {\n",
       "        vertical-align: top;\n",
       "    }\n",
       "\n",
       "    .dataframe thead th {\n",
       "        text-align: right;\n",
       "    }\n",
       "</style>\n",
       "<table border=\"1\" class=\"dataframe\">\n",
       "  <thead>\n",
       "    <tr style=\"text-align: right;\">\n",
       "      <th></th>\n",
       "      <th>User_per</th>\n",
       "      <th>NonUser_per</th>\n",
       "    </tr>\n",
       "  </thead>\n",
       "  <tbody>\n",
       "    <tr>\n",
       "      <th>Less than HS</th>\n",
       "      <td>0.185714</td>\n",
       "      <td>0.127483</td>\n",
       "    </tr>\n",
       "    <tr>\n",
       "      <th>HS Grad</th>\n",
       "      <td>0.332653</td>\n",
       "      <td>0.260431</td>\n",
       "    </tr>\n",
       "    <tr>\n",
       "      <th>Some College</th>\n",
       "      <td>0.369388</td>\n",
       "      <td>0.341480</td>\n",
       "    </tr>\n",
       "    <tr>\n",
       "      <th>College Grad</th>\n",
       "      <td>0.112245</td>\n",
       "      <td>0.270607</td>\n",
       "    </tr>\n",
       "  </tbody>\n",
       "</table>\n",
       "</div>"
      ],
      "text/plain": [
       "              User_per  NonUser_per\n",
       "Less than HS  0.185714     0.127483\n",
       "HS Grad       0.332653     0.260431\n",
       "Some College  0.369388     0.341480\n",
       "College Grad  0.112245     0.270607"
      ]
     },
     "execution_count": 10,
     "metadata": {},
     "output_type": "execute_result"
    }
   ],
   "source": [
    "table1aa = table1a[['User_per','NonUser_per']]\n",
    "table1aa\n",
    "#This isolated the columns necessary for visualization of education level and heroin use"
   ]
  },
  {
   "cell_type": "code",
   "execution_count": 11,
   "metadata": {},
   "outputs": [
    {
     "data": {
      "image/png": "[encoded data removed]",
      "text/plain": [
       "<Figure size 360x432 with 1 Axes>"
      ]
     },
     "metadata": {
      "needs_background": "light"
     },
     "output_type": "display_data"
    }
   ],
   "source": [
    "import matplotlib.pyplot as plt\n",
    "\n",
    "label = ['Heroin User','Non-Heroin User']\n",
    "y_value1 = table1aa.loc['Less than HS']\n",
    "y_value2 = table1aa.loc['HS Grad']\n",
    "y_value3 = table1aa.loc['Some College']\n",
    "y_value4 = table1aa.loc['College Grad']\n",
    "\n",
    "fig, axs = plt.subplots(figsize=(5,6))      \n",
    "p1 = axs.bar(label, y_value1, color='lightslategray', width=0.45)     \n",
    "p2 = axs.bar(label, y_value2, color='slateblue', bottom=y_value1, width=0.45)\n",
    "p3 = axs.bar(label, y_value3, color='cornflowerblue', bottom=y_value1+y_value2, width=0.45)\n",
    "p4 = axs.bar(label, y_value4, color='lightsteelblue', bottom=y_value1+y_value2+y_value3, width=0.45)\n",
    "\n",
    "axs.set_title(\"Education Level by Heroin Use Status\", fontsize=20, fontweight=\"bold\")   \n",
    "axs.set_xlabel(\"\", fontsize=16)\n",
    "axs.set_ylabel(\"Proportion\", fontsize=16)\n",
    "axs.tick_params(labelsize=14)  \n",
    "axs.legend((p1[0],p2[0],p3[0],p4[0]),(table1aa.index),\n",
    "          bbox_to_anchor=(1.05, 0.8))\n",
    "plt.text(-.3,-.14, \"*Data Source: Center for Behavioral Health Statistics and Quality via Kaggle\", size=10)\n",
    "plt.show() \n",
    "#This created a stacked bar chart for looking at heroin use and education level"
   ]
  },
  {
   "cell_type": "code",
   "execution_count": 12,
   "metadata": {},
   "outputs": [
    {
     "data": {
      "text/html": [
       "<div>\n",
       "<style scoped>\n",
       "    .dataframe tbody tr th:only-of-type {\n",
       "        vertical-align: middle;\n",
       "    }\n",
       "\n",
       "    .dataframe tbody tr th {\n",
       "        vertical-align: top;\n",
       "    }\n",
       "\n",
       "    .dataframe thead th {\n",
       "        text-align: right;\n",
       "    }\n",
       "</style>\n",
       "<table border=\"1\" class=\"dataframe\">\n",
       "  <thead>\n",
       "    <tr style=\"text-align: right;\">\n",
       "      <th></th>\n",
       "      <th>Heroin Ever</th>\n",
       "      <th>Insurance</th>\n",
       "    </tr>\n",
       "  </thead>\n",
       "  <tbody>\n",
       "    <tr>\n",
       "      <th>0</th>\n",
       "      <td>No</td>\n",
       "      <td>No</td>\n",
       "    </tr>\n",
       "    <tr>\n",
       "      <th>1</th>\n",
       "      <td>No</td>\n",
       "      <td>Yes</td>\n",
       "    </tr>\n",
       "    <tr>\n",
       "      <th>2</th>\n",
       "      <td>No</td>\n",
       "      <td>Yes</td>\n",
       "    </tr>\n",
       "    <tr>\n",
       "      <th>3</th>\n",
       "      <td>Yes</td>\n",
       "      <td>Yes</td>\n",
       "    </tr>\n",
       "    <tr>\n",
       "      <th>4</th>\n",
       "      <td>No</td>\n",
       "      <td>Yes</td>\n",
       "    </tr>\n",
       "    <tr>\n",
       "      <th>...</th>\n",
       "      <td>...</td>\n",
       "      <td>...</td>\n",
       "    </tr>\n",
       "    <tr>\n",
       "      <th>30762</th>\n",
       "      <td>No</td>\n",
       "      <td>Yes</td>\n",
       "    </tr>\n",
       "    <tr>\n",
       "      <th>30763</th>\n",
       "      <td>No</td>\n",
       "      <td>Yes</td>\n",
       "    </tr>\n",
       "    <tr>\n",
       "      <th>30764</th>\n",
       "      <td>No</td>\n",
       "      <td>Yes</td>\n",
       "    </tr>\n",
       "    <tr>\n",
       "      <th>30765</th>\n",
       "      <td>No</td>\n",
       "      <td>No</td>\n",
       "    </tr>\n",
       "    <tr>\n",
       "      <th>30766</th>\n",
       "      <td>No</td>\n",
       "      <td>No</td>\n",
       "    </tr>\n",
       "  </tbody>\n",
       "</table>\n",
       "<p>30767 rows × 2 columns</p>\n",
       "</div>"
      ],
      "text/plain": [
       "      Heroin Ever Insurance\n",
       "0              No        No\n",
       "1              No       Yes\n",
       "2              No       Yes\n",
       "3             Yes       Yes\n",
       "4              No       Yes\n",
       "...           ...       ...\n",
       "30762          No       Yes\n",
       "30763          No       Yes\n",
       "30764          No       Yes\n",
       "30765          No        No\n",
       "30766          No        No\n",
       "\n",
       "[30767 rows x 2 columns]"
      ]
     },
     "execution_count": 12,
     "metadata": {},
     "output_type": "execute_result"
    }
   ],
   "source": [
    "df2=df[['Heroin Ever','Insurance']]\n",
    "df2=df2.dropna()\n",
    "df2\n",
    "#This found necessary columns and dropped NaNs to compare insurance coverage based on heroin use"
   ]
  },
  {
   "cell_type": "code",
   "execution_count": 13,
   "metadata": {},
   "outputs": [
    {
     "data": {
      "text/html": [
       "<div>\n",
       "<style scoped>\n",
       "    .dataframe tbody tr th:only-of-type {\n",
       "        vertical-align: middle;\n",
       "    }\n",
       "\n",
       "    .dataframe tbody tr th {\n",
       "        vertical-align: top;\n",
       "    }\n",
       "\n",
       "    .dataframe thead th {\n",
       "        text-align: right;\n",
       "    }\n",
       "</style>\n",
       "<table border=\"1\" class=\"dataframe\">\n",
       "  <thead>\n",
       "    <tr style=\"text-align: right;\">\n",
       "      <th>Insurance</th>\n",
       "      <th>No</th>\n",
       "      <th>Yes</th>\n",
       "    </tr>\n",
       "    <tr>\n",
       "      <th>Heroin Ever</th>\n",
       "      <th></th>\n",
       "      <th></th>\n",
       "    </tr>\n",
       "  </thead>\n",
       "  <tbody>\n",
       "    <tr>\n",
       "      <th>No</th>\n",
       "      <td>2809</td>\n",
       "      <td>27458</td>\n",
       "    </tr>\n",
       "    <tr>\n",
       "      <th>Yes</th>\n",
       "      <td>85</td>\n",
       "      <td>415</td>\n",
       "    </tr>\n",
       "  </tbody>\n",
       "</table>\n",
       "</div>"
      ],
      "text/plain": [
       "Insurance      No    Yes\n",
       "Heroin Ever             \n",
       "No           2809  27458\n",
       "Yes            85    415"
      ]
     },
     "execution_count": 13,
     "metadata": {},
     "output_type": "execute_result"
    }
   ],
   "source": [
    "table2 = pd.crosstab(index=df2[\"Heroin Ever\"], columns=df2[\"Insurance\"]) \n",
    "table2\n",
    "#This created a two-way table for insurance and heroin use"
   ]
  },
  {
   "cell_type": "code",
   "execution_count": 14,
   "metadata": {},
   "outputs": [
    {
     "data": {
      "text/html": [
       "<div>\n",
       "<style scoped>\n",
       "    .dataframe tbody tr th:only-of-type {\n",
       "        vertical-align: middle;\n",
       "    }\n",
       "\n",
       "    .dataframe tbody tr th {\n",
       "        vertical-align: top;\n",
       "    }\n",
       "\n",
       "    .dataframe thead th {\n",
       "        text-align: right;\n",
       "    }\n",
       "</style>\n",
       "<table border=\"1\" class=\"dataframe\">\n",
       "  <thead>\n",
       "    <tr style=\"text-align: right;\">\n",
       "      <th>Insurance</th>\n",
       "      <th>No</th>\n",
       "      <th>Yes</th>\n",
       "      <th>Total</th>\n",
       "      <th>Insured_per</th>\n",
       "      <th>Uninsured_per</th>\n",
       "      <th>Insured%</th>\n",
       "      <th>Uninsured%</th>\n",
       "    </tr>\n",
       "    <tr>\n",
       "      <th>Heroin Ever</th>\n",
       "      <th></th>\n",
       "      <th></th>\n",
       "      <th></th>\n",
       "      <th></th>\n",
       "      <th></th>\n",
       "      <th></th>\n",
       "      <th></th>\n",
       "    </tr>\n",
       "  </thead>\n",
       "  <tbody>\n",
       "    <tr>\n",
       "      <th>No</th>\n",
       "      <td>2809</td>\n",
       "      <td>27458</td>\n",
       "      <td>30267</td>\n",
       "      <td>0.907193</td>\n",
       "      <td>0.092807</td>\n",
       "      <td>90.719265</td>\n",
       "      <td>9.280735</td>\n",
       "    </tr>\n",
       "    <tr>\n",
       "      <th>Yes</th>\n",
       "      <td>85</td>\n",
       "      <td>415</td>\n",
       "      <td>500</td>\n",
       "      <td>0.830000</td>\n",
       "      <td>0.170000</td>\n",
       "      <td>83.000000</td>\n",
       "      <td>17.000000</td>\n",
       "    </tr>\n",
       "  </tbody>\n",
       "</table>\n",
       "</div>"
      ],
      "text/plain": [
       "Insurance      No    Yes  Total  Insured_per  Uninsured_per   Insured%  \\\n",
       "Heroin Ever                                                              \n",
       "No           2809  27458  30267     0.907193       0.092807  90.719265   \n",
       "Yes            85    415    500     0.830000       0.170000  83.000000   \n",
       "\n",
       "Insurance    Uninsured%  \n",
       "Heroin Ever              \n",
       "No             9.280735  \n",
       "Yes           17.000000  "
      ]
     },
     "execution_count": 14,
     "metadata": {},
     "output_type": "execute_result"
    }
   ],
   "source": [
    "table2['Total'] = table2['No'] + table2['Yes']\n",
    "table2['Insured_per'] = table2['Yes'] / table2['Total']\n",
    "table2['Uninsured_per'] = table2['No'] / table2['Total']\n",
    "table2['Insured%']= table2['Insured_per']*100\n",
    "table2['Uninsured%']= table2['Uninsured_per']*100\n",
    "table2\n",
    "#This found percentages to compare heroin use and insurance coverage"
   ]
  },
  {
   "cell_type": "code",
   "execution_count": 15,
   "metadata": {
    "scrolled": true
   },
   "outputs": [
    {
     "data": {
      "text/html": [
       "<div>\n",
       "<style scoped>\n",
       "    .dataframe tbody tr th:only-of-type {\n",
       "        vertical-align: middle;\n",
       "    }\n",
       "\n",
       "    .dataframe tbody tr th {\n",
       "        vertical-align: top;\n",
       "    }\n",
       "\n",
       "    .dataframe thead th {\n",
       "        text-align: right;\n",
       "    }\n",
       "</style>\n",
       "<table border=\"1\" class=\"dataframe\">\n",
       "  <thead>\n",
       "    <tr style=\"text-align: right;\">\n",
       "      <th>Heroin Ever</th>\n",
       "      <th>No</th>\n",
       "      <th>Yes</th>\n",
       "    </tr>\n",
       "    <tr>\n",
       "      <th>Insurance</th>\n",
       "      <th></th>\n",
       "      <th></th>\n",
       "    </tr>\n",
       "  </thead>\n",
       "  <tbody>\n",
       "    <tr>\n",
       "      <th>No</th>\n",
       "      <td>2809.000000</td>\n",
       "      <td>85.00</td>\n",
       "    </tr>\n",
       "    <tr>\n",
       "      <th>Yes</th>\n",
       "      <td>27458.000000</td>\n",
       "      <td>415.00</td>\n",
       "    </tr>\n",
       "    <tr>\n",
       "      <th>Total</th>\n",
       "      <td>30267.000000</td>\n",
       "      <td>500.00</td>\n",
       "    </tr>\n",
       "    <tr>\n",
       "      <th>Insured_per</th>\n",
       "      <td>0.907193</td>\n",
       "      <td>0.83</td>\n",
       "    </tr>\n",
       "    <tr>\n",
       "      <th>Uninsured_per</th>\n",
       "      <td>0.092807</td>\n",
       "      <td>0.17</td>\n",
       "    </tr>\n",
       "    <tr>\n",
       "      <th>Insured%</th>\n",
       "      <td>90.719265</td>\n",
       "      <td>83.00</td>\n",
       "    </tr>\n",
       "    <tr>\n",
       "      <th>Uninsured%</th>\n",
       "      <td>9.280735</td>\n",
       "      <td>17.00</td>\n",
       "    </tr>\n",
       "  </tbody>\n",
       "</table>\n",
       "</div>"
      ],
      "text/plain": [
       "Heroin Ever              No     Yes\n",
       "Insurance                          \n",
       "No              2809.000000   85.00\n",
       "Yes            27458.000000  415.00\n",
       "Total          30267.000000  500.00\n",
       "Insured_per        0.907193    0.83\n",
       "Uninsured_per      0.092807    0.17\n",
       "Insured%          90.719265   83.00\n",
       "Uninsured%         9.280735   17.00"
      ]
     },
     "execution_count": 15,
     "metadata": {},
     "output_type": "execute_result"
    }
   ],
   "source": [
    "table2=table2.transpose()\n",
    "table2\n",
    "#This transposed the above table for visualization purposes"
   ]
  },
  {
   "cell_type": "code",
   "execution_count": 16,
   "metadata": {},
   "outputs": [],
   "source": [
    "unin_perc=['9.28%','17.00%']\n",
    "#This was used to label the bar graph for heroin use and insurance"
   ]
  },
  {
   "cell_type": "code",
   "execution_count": 17,
   "metadata": {},
   "outputs": [
    {
     "data": {
      "image/png": "[encoded data removed]",
      "text/plain": [
       "<Figure size 360x504 with 1 Axes>"
      ]
     },
     "metadata": {
      "needs_background": "light"
     },
     "output_type": "display_data"
    }
   ],
   "source": [
    "label = ['Non-Heroin Users','Heroin Users']\n",
    "y_value1 = table2.loc['Insured%']\n",
    "y_value2 = table2.loc['Uninsured%']\n",
    "\n",
    "fig, axs = plt.subplots(figsize=(5,7))      \n",
    "p1 = axs.bar(label, y_value1, color='lightslategray', width=0.45)     \n",
    "p2 = axs.bar(label, y_value2, color='dodgerblue', bottom=y_value1, width=0.45)\n",
    "\n",
    "\n",
    "axs.set_title(\"Percentage of Uninsured People by Heroin Use Status\", fontsize=20, fontweight=\"bold\", pad=20)   \n",
    "axs.set_xlabel(\"\", fontsize=16)\n",
    "axs.set_ylabel(\"Percentage\", fontsize=16)\n",
    "axs.tick_params(labelsize=14)  \n",
    "axs.legend((p1[0],p2[0]),('Insured','Uninsured'),\n",
    "          bbox_to_anchor=(1.05, 0.8))\n",
    "plt.text(-.3,-14, \"*Data Source: Center for Behavioral Health Statistics and Quality via Kaggle\", size=10)\n",
    "for i in range(len(y_value2)):\n",
    "    plt.text(i-0.15,y_value1[i]+y_value2[i]+1, str(unin_perc[i]), color='dodgerblue', size=16)\n",
    "            \n",
    "plt.show() \n",
    "#This created a stacked bar chart looking at proportion of uninsured people based on heroin use"
   ]
  },
  {
   "cell_type": "code",
   "execution_count": 18,
   "metadata": {},
   "outputs": [],
   "source": [
    "def CI_prop(s, n):\n",
    "    p = s / n\n",
    "    se2 = p * (1-p) / n\n",
    "    se = np.sqrt(se2)\n",
    "    low = p - 1.96 * se\n",
    "    up = p + 1.96 * se\n",
    "    print('Sample proportion is:', p)\n",
    "    print('95% CI is: ({}, {})'.format(low, up))\n",
    "#This defined how to find CIs for proportions"
   ]
  },
  {
   "cell_type": "code",
   "execution_count": 19,
   "metadata": {},
   "outputs": [
    {
     "name": "stdout",
     "output_type": "stream",
     "text": [
      "Sample proportion is: 0.09280734793669673\n",
      "95% CI is: (0.08953836746515846, 0.096076328408235)\n"
     ]
    }
   ],
   "source": [
    "CI_prop(2809,30267)\n",
    "#This found the confidence interval for the prop of uninsured non users"
   ]
  },
  {
   "cell_type": "code",
   "execution_count": 20,
   "metadata": {},
   "outputs": [
    {
     "name": "stdout",
     "output_type": "stream",
     "text": [
      "Sample proportion is: 0.17\n",
      "95% CI is: (0.13707433341601116, 0.20292566658398886)\n"
     ]
    }
   ],
   "source": [
    "CI_prop(85,500)\n",
    "#This found the confidence interval for the prop of uninsured heroin users"
   ]
  },
  {
   "cell_type": "code",
   "execution_count": 21,
   "metadata": {},
   "outputs": [],
   "source": [
    "def CI_prop_diff(s1, s2, n1, n2):\n",
    "    p1 = s1 / n1\n",
    "    p2 = s2 / n2\n",
    "    se2p1 = p1 * (1 - p1) / n1\n",
    "    se2p2 = p2 * (1 - p2) / n2\n",
    "    se2 = se2p1 + se2p2\n",
    "    se = np.sqrt(se2)\n",
    "    low = (p1 - p2) - 1.96 * se\n",
    "    up = (p1 - p2) + 1.96 * se\n",
    "    print(\"Proportion difference is:\", p1 - p2)\n",
    "    print(\"95% CI is: ({}, {})\".format(low, up))\n",
    "#This defined how to find CIs for proportion differences"
   ]
  },
  {
   "cell_type": "code",
   "execution_count": 22,
   "metadata": {},
   "outputs": [
    {
     "name": "stdout",
     "output_type": "stream",
     "text": [
      "Proportion difference is: 0.07719265206330328\n",
      "95% CI is: (0.044105105262077615, 0.11028019886452894)\n"
     ]
    }
   ],
   "source": [
    "CI_prop_diff(85,2809,500,30267)\n",
    "#This found 95% CI in prop difference between uninsured heroin users and non users"
   ]
  },
  {
   "cell_type": "code",
   "execution_count": 23,
   "metadata": {},
   "outputs": [],
   "source": [
    "table2a=pd.crosstab(index=df2[\"Heroin Ever\"], columns=df2[\"Insurance\"]) \n",
    "#This recreated the table to find the p-value regarding heroin use and insurance"
   ]
  },
  {
   "cell_type": "code",
   "execution_count": 24,
   "metadata": {},
   "outputs": [
    {
     "name": "stdout",
     "output_type": "stream",
     "text": [
      "chi2: 33.49501134471069\n",
      "p: 7.144701028671687e-09\n",
      "dof: 1\n",
      "expected: [[ 2846.96909026 27420.03090974]\n",
      " [   47.03090974   452.96909026]]\n"
     ]
    }
   ],
   "source": [
    "from scipy import stats\n",
    "\n",
    "chi2, p, dof, expected = stats.chi2_contingency(table2a)\n",
    "\n",
    "print(\"chi2:\", chi2)\n",
    "print(\"p:\", p)\n",
    "print(\"dof:\", dof)\n",
    "print(\"expected:\", expected)\n",
    "#This found the p-value of the proportion difference in uninsured proportion based on heroin use"
   ]
  },
  {
   "cell_type": "code",
   "execution_count": 25,
   "metadata": {},
   "outputs": [
    {
     "data": {
      "text/html": [
       "<div>\n",
       "<style scoped>\n",
       "    .dataframe tbody tr th:only-of-type {\n",
       "        vertical-align: middle;\n",
       "    }\n",
       "\n",
       "    .dataframe tbody tr th {\n",
       "        vertical-align: top;\n",
       "    }\n",
       "\n",
       "    .dataframe thead th {\n",
       "        text-align: right;\n",
       "    }\n",
       "</style>\n",
       "<table border=\"1\" class=\"dataframe\">\n",
       "  <thead>\n",
       "    <tr style=\"text-align: right;\">\n",
       "      <th></th>\n",
       "      <th>Heroin Ever</th>\n",
       "      <th>K6 Psych Distress Score</th>\n",
       "    </tr>\n",
       "  </thead>\n",
       "  <tbody>\n",
       "    <tr>\n",
       "      <th>0</th>\n",
       "      <td>No</td>\n",
       "      <td>8.0</td>\n",
       "    </tr>\n",
       "    <tr>\n",
       "      <th>1</th>\n",
       "      <td>No</td>\n",
       "      <td>9.0</td>\n",
       "    </tr>\n",
       "    <tr>\n",
       "      <th>2</th>\n",
       "      <td>No</td>\n",
       "      <td>3.0</td>\n",
       "    </tr>\n",
       "    <tr>\n",
       "      <th>3</th>\n",
       "      <td>Yes</td>\n",
       "      <td>1.0</td>\n",
       "    </tr>\n",
       "    <tr>\n",
       "      <th>4</th>\n",
       "      <td>No</td>\n",
       "      <td>1.0</td>\n",
       "    </tr>\n",
       "    <tr>\n",
       "      <th>...</th>\n",
       "      <td>...</td>\n",
       "      <td>...</td>\n",
       "    </tr>\n",
       "    <tr>\n",
       "      <th>30762</th>\n",
       "      <td>No</td>\n",
       "      <td>15.0</td>\n",
       "    </tr>\n",
       "    <tr>\n",
       "      <th>30763</th>\n",
       "      <td>No</td>\n",
       "      <td>2.0</td>\n",
       "    </tr>\n",
       "    <tr>\n",
       "      <th>30764</th>\n",
       "      <td>No</td>\n",
       "      <td>9.0</td>\n",
       "    </tr>\n",
       "    <tr>\n",
       "      <th>30765</th>\n",
       "      <td>No</td>\n",
       "      <td>2.0</td>\n",
       "    </tr>\n",
       "    <tr>\n",
       "      <th>30766</th>\n",
       "      <td>No</td>\n",
       "      <td>7.0</td>\n",
       "    </tr>\n",
       "  </tbody>\n",
       "</table>\n",
       "<p>26429 rows × 2 columns</p>\n",
       "</div>"
      ],
      "text/plain": [
       "      Heroin Ever  K6 Psych Distress Score\n",
       "0              No                      8.0\n",
       "1              No                      9.0\n",
       "2              No                      3.0\n",
       "3             Yes                      1.0\n",
       "4              No                      1.0\n",
       "...           ...                      ...\n",
       "30762          No                     15.0\n",
       "30763          No                      2.0\n",
       "30764          No                      9.0\n",
       "30765          No                      2.0\n",
       "30766          No                      7.0\n",
       "\n",
       "[26429 rows x 2 columns]"
      ]
     },
     "execution_count": 25,
     "metadata": {},
     "output_type": "execute_result"
    }
   ],
   "source": [
    "df3=df[['Heroin Ever', 'K6 Psych Distress Score']]\n",
    "df3=df3.dropna()\n",
    "df3\n",
    "#This found necessary columns and dropped NaNs to compare heroin use and psychiatric distress score"
   ]
  },
  {
   "cell_type": "code",
   "execution_count": 26,
   "metadata": {},
   "outputs": [],
   "source": [
    "heroin=df3['Heroin Ever']=='Yes'\n",
    "noheroin=df3['Heroin Ever']=='No'\n",
    "\n",
    "heroin_df3=df3[heroin]\n",
    "noheroin_df3=df3[noheroin]\n",
    "\n",
    "heroin_k6=heroin_df3['K6 Psych Distress Score']\n",
    "noheroin_k6=noheroin_df3['K6 Psych Distress Score']\n",
    "#This created two dataframes for the boxplot of psych distress and heroin use"
   ]
  },
  {
   "cell_type": "code",
   "execution_count": 27,
   "metadata": {},
   "outputs": [
    {
     "data": {
      "image/png": "[encoded data removed]",
      "text/plain": [
       "<Figure size 864x576 with 1 Axes>"
      ]
     },
     "metadata": {
      "needs_background": "light"
     },
     "output_type": "display_data"
    }
   ],
   "source": [
    "fig, axs = plt.subplots(figsize=(12,8))\n",
    "axs.boxplot([heroin_df3['K6 Psych Distress Score'], noheroin_df3['K6 Psych Distress Score']])\n",
    "plt.title(\"Psychological Distress Score by Heroin Use\", fontsize=20)\n",
    "axs.set_xticklabels(['Heroin Users','Non-Heroin Users'])\n",
    "axs.set_ylabel('K6 Psychological Distress Score', fontsize=18)\n",
    "axs.tick_params(labelsize=15)\n",
    "plt.text(.6,-4, \"*Data Source: Center for Behavioral Health Statistics and Quality via Kaggle\", size=10)\n",
    "plt.show()\n",
    "#This created a boxplot of psych distress and heroin use"
   ]
  },
  {
   "cell_type": "code",
   "execution_count": 28,
   "metadata": {},
   "outputs": [],
   "source": [
    "def CI_mean(data):\n",
    "    se = np.std(data)/np.sqrt(len(data))\n",
    "    low = np.mean(data)-1.96*se\n",
    "    up = np.mean(data)+1.96*se\n",
    "    print(\"Average is:\", np.mean(data))\n",
    "    print(\"95% CI of mean is: ({}, {})\".format(low,up))\n",
    "#This defined how to find the CI of means "
   ]
  },
  {
   "cell_type": "code",
   "execution_count": 29,
   "metadata": {},
   "outputs": [
    {
     "name": "stdout",
     "output_type": "stream",
     "text": [
      "Average is: 9.593939393939394\n",
      "95% CI of mean is: (8.94168225543649, 10.246196532442298)\n"
     ]
    }
   ],
   "source": [
    "CI_mean(heroin_df3['K6 Psych Distress Score'])\n",
    "#This found CI of mean of psych distress score among heroin users"
   ]
  },
  {
   "cell_type": "code",
   "execution_count": 30,
   "metadata": {},
   "outputs": [
    {
     "name": "stdout",
     "output_type": "stream",
     "text": [
      "Average is: 5.580666306778746\n",
      "95% CI of mean is: (5.508033953908055, 5.653298659649438)\n"
     ]
    }
   ],
   "source": [
    "CI_mean(noheroin_df3['K6 Psych Distress Score'])\n",
    "#This found CI of mean of psych distress score among non users"
   ]
  },
  {
   "cell_type": "code",
   "execution_count": 31,
   "metadata": {},
   "outputs": [],
   "source": [
    "def CI_mean_diff(list1, list2):\n",
    "    s1 = np.var(list1)\n",
    "    s2 = np.var(list2)\n",
    "    n1 = len(list1)\n",
    "    n2 = len(list2)\n",
    "    se2 = s1/n1 + s2/n2\n",
    "    se = np.sqrt(se2)\n",
    "\n",
    "    diff = np.mean(list1) - np.mean(list2)\n",
    "    low = diff - 1.96 * se\n",
    "    up = diff + 1.96 * se\n",
    "    print(\"The average difference is:\", diff)\n",
    "    print(\"The 95% CI is: ({}, {})\".format(low, up))\n",
    "#This defined how to find CI of mean differences"
   ]
  },
  {
   "cell_type": "code",
   "execution_count": 32,
   "metadata": {},
   "outputs": [
    {
     "name": "stdout",
     "output_type": "stream",
     "text": [
      "The average difference is: 4.0132730871606475\n",
      "The 95% CI is: (3.3569844057013913, 4.669561768619904)\n"
     ]
    }
   ],
   "source": [
    "CI_mean_diff(heroin_df3['K6 Psych Distress Score'], noheroin_df3['K6 Psych Distress Score'])\n",
    "#This found CI of mean diff in psych distress scores between users and non users"
   ]
  },
  {
   "cell_type": "code",
   "execution_count": 33,
   "metadata": {},
   "outputs": [
    {
     "name": "stdout",
     "output_type": "stream",
     "text": [
      "Test statistic: 11.973635009565363\n",
      "p-value: 2.9020045294000394e-29\n"
     ]
    }
   ],
   "source": [
    "from scipy import stats\n",
    "\n",
    "t_val, p_val = stats.ttest_ind(heroin_df3['K6 Psych Distress Score'], noheroin_df3['K6 Psych Distress Score'], equal_var=False)\n",
    "\n",
    "print(\"Test statistic:\", t_val)\n",
    "print(\"p-value:\", p_val)\n",
    "#This found the p-value of the mean difference in psych distress scores between users and non users "
   ]
  },
  {
   "cell_type": "code",
   "execution_count": 34,
   "metadata": {},
   "outputs": [
    {
     "data": {
      "text/html": [
       "<div>\n",
       "<style scoped>\n",
       "    .dataframe tbody tr th:only-of-type {\n",
       "        vertical-align: middle;\n",
       "    }\n",
       "\n",
       "    .dataframe tbody tr th {\n",
       "        vertical-align: top;\n",
       "    }\n",
       "\n",
       "    .dataframe thead th {\n",
       "        text-align: right;\n",
       "    }\n",
       "</style>\n",
       "<table border=\"1\" class=\"dataframe\">\n",
       "  <thead>\n",
       "    <tr style=\"text-align: right;\">\n",
       "      <th></th>\n",
       "      <th>Heroin Ever</th>\n",
       "      <th>Psych Distress</th>\n",
       "    </tr>\n",
       "  </thead>\n",
       "  <tbody>\n",
       "    <tr>\n",
       "      <th>0</th>\n",
       "      <td>No</td>\n",
       "      <td>No</td>\n",
       "    </tr>\n",
       "    <tr>\n",
       "      <th>1</th>\n",
       "      <td>No</td>\n",
       "      <td>No</td>\n",
       "    </tr>\n",
       "    <tr>\n",
       "      <th>2</th>\n",
       "      <td>No</td>\n",
       "      <td>No</td>\n",
       "    </tr>\n",
       "    <tr>\n",
       "      <th>3</th>\n",
       "      <td>Yes</td>\n",
       "      <td>No</td>\n",
       "    </tr>\n",
       "    <tr>\n",
       "      <th>4</th>\n",
       "      <td>No</td>\n",
       "      <td>No</td>\n",
       "    </tr>\n",
       "    <tr>\n",
       "      <th>...</th>\n",
       "      <td>...</td>\n",
       "      <td>...</td>\n",
       "    </tr>\n",
       "    <tr>\n",
       "      <th>30762</th>\n",
       "      <td>No</td>\n",
       "      <td>Yes</td>\n",
       "    </tr>\n",
       "    <tr>\n",
       "      <th>30763</th>\n",
       "      <td>No</td>\n",
       "      <td>No</td>\n",
       "    </tr>\n",
       "    <tr>\n",
       "      <th>30764</th>\n",
       "      <td>No</td>\n",
       "      <td>No</td>\n",
       "    </tr>\n",
       "    <tr>\n",
       "      <th>30765</th>\n",
       "      <td>No</td>\n",
       "      <td>No</td>\n",
       "    </tr>\n",
       "    <tr>\n",
       "      <th>30766</th>\n",
       "      <td>No</td>\n",
       "      <td>No</td>\n",
       "    </tr>\n",
       "  </tbody>\n",
       "</table>\n",
       "<p>26429 rows × 2 columns</p>\n",
       "</div>"
      ],
      "text/plain": [
       "      Heroin Ever Psych Distress\n",
       "0              No             No\n",
       "1              No             No\n",
       "2              No             No\n",
       "3             Yes             No\n",
       "4              No             No\n",
       "...           ...            ...\n",
       "30762          No            Yes\n",
       "30763          No             No\n",
       "30764          No             No\n",
       "30765          No             No\n",
       "30766          No             No\n",
       "\n",
       "[26429 rows x 2 columns]"
      ]
     },
     "execution_count": 34,
     "metadata": {},
     "output_type": "execute_result"
    }
   ],
   "source": [
    "df4=df[['Heroin Ever','Psych Distress']]\n",
    "df4=df4.dropna()\n",
    "df4\n",
    "#This found necessary columns and dropped NaNs to compare heroin use and \n",
    "#whether people are classified as have psychological distress (based on score)"
   ]
  },
  {
   "cell_type": "code",
   "execution_count": 35,
   "metadata": {},
   "outputs": [
    {
     "data": {
      "text/html": [
       "<div>\n",
       "<style scoped>\n",
       "    .dataframe tbody tr th:only-of-type {\n",
       "        vertical-align: middle;\n",
       "    }\n",
       "\n",
       "    .dataframe tbody tr th {\n",
       "        vertical-align: top;\n",
       "    }\n",
       "\n",
       "    .dataframe thead th {\n",
       "        text-align: right;\n",
       "    }\n",
       "</style>\n",
       "<table border=\"1\" class=\"dataframe\">\n",
       "  <thead>\n",
       "    <tr style=\"text-align: right;\">\n",
       "      <th>Heroin Ever</th>\n",
       "      <th>No</th>\n",
       "      <th>Yes</th>\n",
       "    </tr>\n",
       "    <tr>\n",
       "      <th>Psych Distress</th>\n",
       "      <th></th>\n",
       "      <th></th>\n",
       "    </tr>\n",
       "  </thead>\n",
       "  <tbody>\n",
       "    <tr>\n",
       "      <th>No</th>\n",
       "      <td>22277.000000</td>\n",
       "      <td>324.000000</td>\n",
       "    </tr>\n",
       "    <tr>\n",
       "      <th>Yes</th>\n",
       "      <td>3657.000000</td>\n",
       "      <td>171.000000</td>\n",
       "    </tr>\n",
       "    <tr>\n",
       "      <th>Total</th>\n",
       "      <td>25934.000000</td>\n",
       "      <td>495.000000</td>\n",
       "    </tr>\n",
       "    <tr>\n",
       "      <th>Dist_per</th>\n",
       "      <td>0.141012</td>\n",
       "      <td>0.345455</td>\n",
       "    </tr>\n",
       "    <tr>\n",
       "      <th>NoDist_per</th>\n",
       "      <td>0.858988</td>\n",
       "      <td>0.654545</td>\n",
       "    </tr>\n",
       "    <tr>\n",
       "      <th>Dist%</th>\n",
       "      <td>14.101180</td>\n",
       "      <td>34.545455</td>\n",
       "    </tr>\n",
       "    <tr>\n",
       "      <th>NoDist%</th>\n",
       "      <td>85.898820</td>\n",
       "      <td>65.454545</td>\n",
       "    </tr>\n",
       "  </tbody>\n",
       "</table>\n",
       "</div>"
      ],
      "text/plain": [
       "Heroin Ever               No         Yes\n",
       "Psych Distress                          \n",
       "No              22277.000000  324.000000\n",
       "Yes              3657.000000  171.000000\n",
       "Total           25934.000000  495.000000\n",
       "Dist_per            0.141012    0.345455\n",
       "NoDist_per          0.858988    0.654545\n",
       "Dist%              14.101180   34.545455\n",
       "NoDist%            85.898820   65.454545"
      ]
     },
     "execution_count": 35,
     "metadata": {},
     "output_type": "execute_result"
    }
   ],
   "source": [
    "table4 = pd.crosstab(index=df4[\"Heroin Ever\"], columns=df4[\"Psych Distress\"]) \n",
    "\n",
    "table4['Total'] = table4['No'] + table4['Yes']\n",
    "table4['Dist_per'] = table4['Yes'] / table4['Total']\n",
    "table4['NoDist_per'] = table4['No'] / table4['Total']\n",
    "table4['Dist%']= table4['Dist_per']*100\n",
    "table4['NoDist%']= table4['NoDist_per']*100\n",
    "\n",
    "table4=table4.transpose()\n",
    "\n",
    "table4\n",
    "#This created a table, found comparable percentages, and transposed the table for visualization purposes.\n",
    "#This compares psych distress based on heroin use"
   ]
  },
  {
   "cell_type": "code",
   "execution_count": 36,
   "metadata": {},
   "outputs": [],
   "source": [
    "dist=['14.10%','34.55%']\n",
    "#This created rounded values to use as labels in the bar graph below "
   ]
  },
  {
   "cell_type": "code",
   "execution_count": 37,
   "metadata": {},
   "outputs": [
    {
     "data": {
      "image/png": "[encoded data removed]",
      "text/plain": [
       "<Figure size 360x504 with 1 Axes>"
      ]
     },
     "metadata": {
      "needs_background": "light"
     },
     "output_type": "display_data"
    }
   ],
   "source": [
    "label = ['Non-Heroin Users','Heroin Users']\n",
    "y_value1 = table4.loc['NoDist%']\n",
    "y_value2 = table4.loc['Dist%']\n",
    "\n",
    "fig, axs = plt.subplots(figsize=(5,7))      \n",
    "p1 = axs.bar(label, y_value1, color='midnightblue', width=0.45)     \n",
    "# Don't forget the bottom from p2\n",
    "p2 = axs.bar(label, y_value2, color='dodgerblue', bottom=y_value1, width=0.45)\n",
    "\n",
    "\n",
    "axs.set_title(\"Percentage of People with K6-Based Psychological Distress by Heroin Use Status\", \n",
    "              fontsize=20, fontweight=\"bold\", pad=20)   \n",
    "axs.set_xlabel(\"\", fontsize=16)\n",
    "axs.set_ylabel(\"Percentage\", fontsize=16)\n",
    "axs.tick_params(labelsize=14)  \n",
    "axs.legend((p2[0],p1[0]),('Identified Psychological Distress','No Identified Psychological Distress'),\n",
    "          bbox_to_anchor=(1.05, 0.8))\n",
    "plt.text(-.3,-12, \"*Data Source: Center for Behavioral Health Statistics and Quality via Kaggle\", size=10)\n",
    "for i in range(len(y_value2)):\n",
    "    plt.text(i-.16,y_value1[i]+y_value2[i]-5, str(dist[i]), color='white', size=16)\n",
    "             \n",
    "plt.show() \n",
    "#This created a stacked bar chart to look at identified psych distress by heroin use"
   ]
  },
  {
   "cell_type": "code",
   "execution_count": 38,
   "metadata": {},
   "outputs": [
    {
     "name": "stdout",
     "output_type": "stream",
     "text": [
      "Sample proportion is: 0.34545454545454546\n",
      "95% CI is: (0.30356372819110156, 0.38734536271798936)\n"
     ]
    }
   ],
   "source": [
    "CI_prop(171,495)\n",
    "#This found 95% CI prop of psych distress positivity for heroin users"
   ]
  },
  {
   "cell_type": "code",
   "execution_count": 39,
   "metadata": {},
   "outputs": [
    {
     "name": "stdout",
     "output_type": "stream",
     "text": [
      "Sample proportion is: 0.14101179918254028\n",
      "95% CI is: (0.1367759289761273, 0.14524766938895325)\n"
     ]
    }
   ],
   "source": [
    "CI_prop(3657,25934)\n",
    "#This found 95% CI prop of psych distress positivity for non users"
   ]
  },
  {
   "cell_type": "code",
   "execution_count": 40,
   "metadata": {},
   "outputs": [
    {
     "name": "stdout",
     "output_type": "stream",
     "text": [
      "Proportion difference is: 0.20444274627200518\n",
      "95% CI is: (0.16233831458833528, 0.24654717795567507)\n"
     ]
    }
   ],
   "source": [
    "CI_prop_diff(171,3657,495,25934)\n",
    "#This found CI prop of difference between psych distress positivity in users vs non users"
   ]
  },
  {
   "cell_type": "code",
   "execution_count": 41,
   "metadata": {},
   "outputs": [],
   "source": [
    "table4a=pd.crosstab(index=df4[\"Heroin Ever\"], columns=df4[\"Psych Distress\"]) \n",
    "#This recreated the table to find the p-value regarding an association between psych distress and heroin use"
   ]
  },
  {
   "cell_type": "code",
   "execution_count": 42,
   "metadata": {},
   "outputs": [
    {
     "name": "stdout",
     "output_type": "stream",
     "text": [
      "chi2: 162.26125207781874\n",
      "p: 3.627546352099605e-37\n",
      "dof: 1\n",
      "expected: [[22177.69624276  3756.30375724]\n",
      " [  423.30375724    71.69624276]]\n"
     ]
    }
   ],
   "source": [
    "from scipy import stats\n",
    "\n",
    "chi2, p, dof, expected = stats.chi2_contingency(table4a)\n",
    "\n",
    "print(\"chi2:\", chi2)\n",
    "print(\"p:\", p)\n",
    "print(\"dof:\", dof)\n",
    "print(\"expected:\", expected)\n",
    "#The found the p value regarding an association between psych distress and heroin use"
   ]
  },
  {
   "cell_type": "code",
   "execution_count": 43,
   "metadata": {},
   "outputs": [
    {
     "data": {
      "text/html": [
       "<div>\n",
       "<style scoped>\n",
       "    .dataframe tbody tr th:only-of-type {\n",
       "        vertical-align: middle;\n",
       "    }\n",
       "\n",
       "    .dataframe tbody tr th {\n",
       "        vertical-align: top;\n",
       "    }\n",
       "\n",
       "    .dataframe thead th {\n",
       "        text-align: right;\n",
       "    }\n",
       "</style>\n",
       "<table border=\"1\" class=\"dataframe\">\n",
       "  <thead>\n",
       "    <tr style=\"text-align: right;\">\n",
       "      <th></th>\n",
       "      <th>Heroin Ever</th>\n",
       "      <th>Unmet MH Need</th>\n",
       "    </tr>\n",
       "  </thead>\n",
       "  <tbody>\n",
       "    <tr>\n",
       "      <th>0</th>\n",
       "      <td>No</td>\n",
       "      <td>No</td>\n",
       "    </tr>\n",
       "    <tr>\n",
       "      <th>1</th>\n",
       "      <td>No</td>\n",
       "      <td>No</td>\n",
       "    </tr>\n",
       "    <tr>\n",
       "      <th>2</th>\n",
       "      <td>No</td>\n",
       "      <td>No</td>\n",
       "    </tr>\n",
       "    <tr>\n",
       "      <th>3</th>\n",
       "      <td>Yes</td>\n",
       "      <td>No</td>\n",
       "    </tr>\n",
       "    <tr>\n",
       "      <th>4</th>\n",
       "      <td>No</td>\n",
       "      <td>No</td>\n",
       "    </tr>\n",
       "    <tr>\n",
       "      <th>...</th>\n",
       "      <td>...</td>\n",
       "      <td>...</td>\n",
       "    </tr>\n",
       "    <tr>\n",
       "      <th>30762</th>\n",
       "      <td>No</td>\n",
       "      <td>No</td>\n",
       "    </tr>\n",
       "    <tr>\n",
       "      <th>30763</th>\n",
       "      <td>No</td>\n",
       "      <td>No</td>\n",
       "    </tr>\n",
       "    <tr>\n",
       "      <th>30764</th>\n",
       "      <td>No</td>\n",
       "      <td>No</td>\n",
       "    </tr>\n",
       "    <tr>\n",
       "      <th>30765</th>\n",
       "      <td>No</td>\n",
       "      <td>No</td>\n",
       "    </tr>\n",
       "    <tr>\n",
       "      <th>30766</th>\n",
       "      <td>No</td>\n",
       "      <td>No</td>\n",
       "    </tr>\n",
       "  </tbody>\n",
       "</table>\n",
       "<p>26365 rows × 2 columns</p>\n",
       "</div>"
      ],
      "text/plain": [
       "      Heroin Ever Unmet MH Need\n",
       "0              No            No\n",
       "1              No            No\n",
       "2              No            No\n",
       "3             Yes            No\n",
       "4              No            No\n",
       "...           ...           ...\n",
       "30762          No            No\n",
       "30763          No            No\n",
       "30764          No            No\n",
       "30765          No            No\n",
       "30766          No            No\n",
       "\n",
       "[26365 rows x 2 columns]"
      ]
     },
     "execution_count": 43,
     "metadata": {},
     "output_type": "execute_result"
    }
   ],
   "source": [
    "df5=df[['Heroin Ever','Unmet MH Need']]\n",
    "df5=df5.dropna()\n",
    "df5\n",
    "#This found necessary columns and dropped NaNs to look at heroin use and unmet mental health need"
   ]
  },
  {
   "cell_type": "code",
   "execution_count": 44,
   "metadata": {},
   "outputs": [
    {
     "data": {
      "text/html": [
       "<div>\n",
       "<style scoped>\n",
       "    .dataframe tbody tr th:only-of-type {\n",
       "        vertical-align: middle;\n",
       "    }\n",
       "\n",
       "    .dataframe tbody tr th {\n",
       "        vertical-align: top;\n",
       "    }\n",
       "\n",
       "    .dataframe thead th {\n",
       "        text-align: right;\n",
       "    }\n",
       "</style>\n",
       "<table border=\"1\" class=\"dataframe\">\n",
       "  <thead>\n",
       "    <tr style=\"text-align: right;\">\n",
       "      <th>Unmet MH Need</th>\n",
       "      <th>No</th>\n",
       "      <th>Yes</th>\n",
       "      <th>Total</th>\n",
       "      <th>Need_per</th>\n",
       "      <th>NoNeed_per</th>\n",
       "      <th>Need%</th>\n",
       "      <th>NoNeed%</th>\n",
       "    </tr>\n",
       "    <tr>\n",
       "      <th>Heroin Ever</th>\n",
       "      <th></th>\n",
       "      <th></th>\n",
       "      <th></th>\n",
       "      <th></th>\n",
       "      <th></th>\n",
       "      <th></th>\n",
       "      <th></th>\n",
       "    </tr>\n",
       "  </thead>\n",
       "  <tbody>\n",
       "    <tr>\n",
       "      <th>No</th>\n",
       "      <td>24170</td>\n",
       "      <td>1702</td>\n",
       "      <td>25872</td>\n",
       "      <td>0.065785</td>\n",
       "      <td>0.934215</td>\n",
       "      <td>6.578541</td>\n",
       "      <td>93.421459</td>\n",
       "    </tr>\n",
       "    <tr>\n",
       "      <th>Yes</th>\n",
       "      <td>416</td>\n",
       "      <td>77</td>\n",
       "      <td>493</td>\n",
       "      <td>0.156187</td>\n",
       "      <td>0.843813</td>\n",
       "      <td>15.618661</td>\n",
       "      <td>84.381339</td>\n",
       "    </tr>\n",
       "  </tbody>\n",
       "</table>\n",
       "</div>"
      ],
      "text/plain": [
       "Unmet MH Need     No   Yes  Total  Need_per  NoNeed_per      Need%    NoNeed%\n",
       "Heroin Ever                                                                  \n",
       "No             24170  1702  25872  0.065785    0.934215   6.578541  93.421459\n",
       "Yes              416    77    493  0.156187    0.843813  15.618661  84.381339"
      ]
     },
     "execution_count": 44,
     "metadata": {},
     "output_type": "execute_result"
    }
   ],
   "source": [
    "table5 = pd.crosstab(index=df5[\"Heroin Ever\"], columns=df5[\"Unmet MH Need\"]) \n",
    "\n",
    "table5['Total'] = table5['No'] + table5['Yes']\n",
    "table5['Need_per'] = table5['Yes'] / table5['Total']\n",
    "table5['NoNeed_per'] = table5['No'] / table5['Total']\n",
    "table5['Need%']= table5['Need_per']*100\n",
    "table5['NoNeed%']= table5['NoNeed_per']*100\n",
    "table5\n",
    "#This created a table and found comparable percentages in heroin use and unmet MH need"
   ]
  },
  {
   "cell_type": "code",
   "execution_count": 45,
   "metadata": {},
   "outputs": [
    {
     "data": {
      "text/html": [
       "<div>\n",
       "<style scoped>\n",
       "    .dataframe tbody tr th:only-of-type {\n",
       "        vertical-align: middle;\n",
       "    }\n",
       "\n",
       "    .dataframe tbody tr th {\n",
       "        vertical-align: top;\n",
       "    }\n",
       "\n",
       "    .dataframe thead th {\n",
       "        text-align: right;\n",
       "    }\n",
       "</style>\n",
       "<table border=\"1\" class=\"dataframe\">\n",
       "  <thead>\n",
       "    <tr style=\"text-align: right;\">\n",
       "      <th>Heroin Ever</th>\n",
       "      <th>No</th>\n",
       "      <th>Yes</th>\n",
       "    </tr>\n",
       "    <tr>\n",
       "      <th>Unmet MH Need</th>\n",
       "      <th></th>\n",
       "      <th></th>\n",
       "    </tr>\n",
       "  </thead>\n",
       "  <tbody>\n",
       "    <tr>\n",
       "      <th>No</th>\n",
       "      <td>24170.000000</td>\n",
       "      <td>416.000000</td>\n",
       "    </tr>\n",
       "    <tr>\n",
       "      <th>Yes</th>\n",
       "      <td>1702.000000</td>\n",
       "      <td>77.000000</td>\n",
       "    </tr>\n",
       "    <tr>\n",
       "      <th>Total</th>\n",
       "      <td>25872.000000</td>\n",
       "      <td>493.000000</td>\n",
       "    </tr>\n",
       "    <tr>\n",
       "      <th>Need_per</th>\n",
       "      <td>0.065785</td>\n",
       "      <td>0.156187</td>\n",
       "    </tr>\n",
       "    <tr>\n",
       "      <th>NoNeed_per</th>\n",
       "      <td>0.934215</td>\n",
       "      <td>0.843813</td>\n",
       "    </tr>\n",
       "    <tr>\n",
       "      <th>Need%</th>\n",
       "      <td>6.578541</td>\n",
       "      <td>15.618661</td>\n",
       "    </tr>\n",
       "    <tr>\n",
       "      <th>NoNeed%</th>\n",
       "      <td>93.421459</td>\n",
       "      <td>84.381339</td>\n",
       "    </tr>\n",
       "  </tbody>\n",
       "</table>\n",
       "</div>"
      ],
      "text/plain": [
       "Heroin Ever              No         Yes\n",
       "Unmet MH Need                          \n",
       "No             24170.000000  416.000000\n",
       "Yes             1702.000000   77.000000\n",
       "Total          25872.000000  493.000000\n",
       "Need_per           0.065785    0.156187\n",
       "NoNeed_per         0.934215    0.843813\n",
       "Need%              6.578541   15.618661\n",
       "NoNeed%           93.421459   84.381339"
      ]
     },
     "execution_count": 45,
     "metadata": {},
     "output_type": "execute_result"
    }
   ],
   "source": [
    "table5=table5.transpose()\n",
    "table5\n",
    "#This transposed the above table, to make it easier to create a bar chart"
   ]
  },
  {
   "cell_type": "code",
   "execution_count": 46,
   "metadata": {},
   "outputs": [],
   "source": [
    "unmet_need=['6.58%','15.62%']\n",
    "#These captions were used for the bar chart (below)"
   ]
  },
  {
   "cell_type": "code",
   "execution_count": 47,
   "metadata": {},
   "outputs": [
    {
     "data": {
      "image/png": "[encoded data removed]",
      "text/plain": [
       "<Figure size 360x504 with 1 Axes>"
      ]
     },
     "metadata": {
      "needs_background": "light"
     },
     "output_type": "display_data"
    }
   ],
   "source": [
    "label = ['Non-Heroin Users','Heroin Users']\n",
    "y_value1 = table5.loc['NoNeed%']\n",
    "y_value2 = table5.loc['Need%']\n",
    "\n",
    "fig, axs = plt.subplots(figsize=(5,7))      \n",
    "p1 = axs.bar(label, y_value1, color='midnightblue', width=0.45)     \n",
    "# Don't forget the bottom from p2\n",
    "p2 = axs.bar(label, y_value2, color='steelblue', bottom=y_value1, width=0.45)\n",
    "\n",
    "\n",
    "axs.set_title(\"Percentage of People with an Unmet Mental Health Need by Heroin Use Status\", \n",
    "              fontsize=20, fontweight=\"bold\", pad=20)   \n",
    "axs.set_xlabel(\"\", fontsize=16)\n",
    "axs.set_ylabel(\"Percentage\", fontsize=16)\n",
    "axs.tick_params(labelsize=14)  \n",
    "axs.legend((p2[0],p1[0]),('Unmet Mental Health Need','No Unmet Need'),\n",
    "          bbox_to_anchor=(1.05, 0.8))\n",
    "plt.text(-.3,-11, \"*Data Source: Center for Behavioral Health Statistics and Quality via Kaggle\", size=10)\n",
    "for i in range(len(y_value2)):\n",
    "    plt.text(i-.15,y_value1[i]+y_value2[i]+1, str(unmet_need[i]), color='steelblue', size=16)\n",
    "             \n",
    "plt.show() \n",
    "#This created a stacked bar chart to look at percent unmet MH need based on heroin use"
   ]
  },
  {
   "cell_type": "code",
   "execution_count": 48,
   "metadata": {},
   "outputs": [
    {
     "name": "stdout",
     "output_type": "stream",
     "text": [
      "Sample proportion is: 0.15618661257606492\n",
      "95% CI is: (0.12414032539030899, 0.18823289976182084)\n"
     ]
    }
   ],
   "source": [
    "CI_prop(77,493)\n",
    "#This found CI prop of unmet mental health need for heroin users"
   ]
  },
  {
   "cell_type": "code",
   "execution_count": 49,
   "metadata": {},
   "outputs": [
    {
     "name": "stdout",
     "output_type": "stream",
     "text": [
      "Sample proportion is: 0.06578540507111935\n",
      "95% CI is: (0.06276455500412954, 0.06880625513810916)\n"
     ]
    }
   ],
   "source": [
    "CI_prop(1702,25872)\n",
    "#This found CI prop of unmet mental health need for non users"
   ]
  },
  {
   "cell_type": "code",
   "execution_count": 50,
   "metadata": {
    "scrolled": true
   },
   "outputs": [
    {
     "name": "stdout",
     "output_type": "stream",
     "text": [
      "Proportion difference is: 0.09040120750494557\n",
      "95% CI is: (0.058212854680994214, 0.12258956032889692)\n"
     ]
    }
   ],
   "source": [
    "CI_prop_diff(77,1702,493,25872)\n",
    "#This found CI prop diff of unmet mental health need for users vs non users"
   ]
  },
  {
   "cell_type": "code",
   "execution_count": 51,
   "metadata": {},
   "outputs": [],
   "source": [
    "table5a = pd.crosstab(index=df5[\"Heroin Ever\"], columns=df5[\"Unmet MH Need\"]) \n",
    "#This recreated the table to find the p value regarding an association between heroin use and unmet need "
   ]
  },
  {
   "cell_type": "code",
   "execution_count": 52,
   "metadata": {},
   "outputs": [
    {
     "name": "stdout",
     "output_type": "stream",
     "text": [
      "chi2: 61.4047357693541\n",
      "p: 4.646914577453086e-15\n",
      "dof: 1\n",
      "expected: [[24126.26557937  1745.73442063]\n",
      " [  459.73442063    33.26557937]]\n"
     ]
    }
   ],
   "source": [
    "from scipy import stats\n",
    "\n",
    "chi2, p, dof, expected = stats.chi2_contingency(table5a)\n",
    "\n",
    "print(\"chi2:\", chi2)\n",
    "print(\"p:\", p)\n",
    "print(\"dof:\", dof)\n",
    "print(\"expected:\", expected)\n",
    "#This found the p value regarding an association between heroin use and unmet need "
   ]
  },
  {
   "cell_type": "code",
   "execution_count": 53,
   "metadata": {
    "scrolled": true
   },
   "outputs": [
    {
     "data": {
      "text/html": [
       "<div>\n",
       "<style scoped>\n",
       "    .dataframe tbody tr th:only-of-type {\n",
       "        vertical-align: middle;\n",
       "    }\n",
       "\n",
       "    .dataframe tbody tr th {\n",
       "        vertical-align: top;\n",
       "    }\n",
       "\n",
       "    .dataframe thead th {\n",
       "        text-align: right;\n",
       "    }\n",
       "</style>\n",
       "<table border=\"1\" class=\"dataframe\">\n",
       "  <thead>\n",
       "    <tr style=\"text-align: right;\">\n",
       "      <th></th>\n",
       "      <th>Heroin Age</th>\n",
       "      <th>Hep B/C Age</th>\n",
       "    </tr>\n",
       "  </thead>\n",
       "  <tbody>\n",
       "    <tr>\n",
       "      <th>61</th>\n",
       "      <td>14.0</td>\n",
       "      <td>22.0</td>\n",
       "    </tr>\n",
       "    <tr>\n",
       "      <th>490</th>\n",
       "      <td>26.0</td>\n",
       "      <td>28.0</td>\n",
       "    </tr>\n",
       "    <tr>\n",
       "      <th>1100</th>\n",
       "      <td>21.0</td>\n",
       "      <td>20.0</td>\n",
       "    </tr>\n",
       "    <tr>\n",
       "      <th>1268</th>\n",
       "      <td>28.0</td>\n",
       "      <td>40.0</td>\n",
       "    </tr>\n",
       "    <tr>\n",
       "      <th>1756</th>\n",
       "      <td>18.0</td>\n",
       "      <td>33.0</td>\n",
       "    </tr>\n",
       "    <tr>\n",
       "      <th>...</th>\n",
       "      <td>...</td>\n",
       "      <td>...</td>\n",
       "    </tr>\n",
       "    <tr>\n",
       "      <th>29124</th>\n",
       "      <td>22.0</td>\n",
       "      <td>27.0</td>\n",
       "    </tr>\n",
       "    <tr>\n",
       "      <th>29130</th>\n",
       "      <td>15.0</td>\n",
       "      <td>45.0</td>\n",
       "    </tr>\n",
       "    <tr>\n",
       "      <th>29452</th>\n",
       "      <td>20.0</td>\n",
       "      <td>20.0</td>\n",
       "    </tr>\n",
       "    <tr>\n",
       "      <th>29639</th>\n",
       "      <td>12.0</td>\n",
       "      <td>17.0</td>\n",
       "    </tr>\n",
       "    <tr>\n",
       "      <th>30641</th>\n",
       "      <td>18.0</td>\n",
       "      <td>21.0</td>\n",
       "    </tr>\n",
       "  </tbody>\n",
       "</table>\n",
       "<p>66 rows × 2 columns</p>\n",
       "</div>"
      ],
      "text/plain": [
       "       Heroin Age  Hep B/C Age\n",
       "61           14.0         22.0\n",
       "490          26.0         28.0\n",
       "1100         21.0         20.0\n",
       "1268         28.0         40.0\n",
       "1756         18.0         33.0\n",
       "...           ...          ...\n",
       "29124        22.0         27.0\n",
       "29130        15.0         45.0\n",
       "29452        20.0         20.0\n",
       "29639        12.0         17.0\n",
       "30641        18.0         21.0\n",
       "\n",
       "[66 rows x 2 columns]"
      ]
     },
     "execution_count": 53,
     "metadata": {},
     "output_type": "execute_result"
    }
   ],
   "source": [
    "df6=df[['Heroin Age','Hep B/C Age']]\n",
    "df6=df6.dropna()\n",
    "df6\n",
    "#This found necessary columns and dropped NaNs to compare heroin age and hep b/c age"
   ]
  },
  {
   "cell_type": "code",
   "execution_count": 54,
   "metadata": {},
   "outputs": [
    {
     "data": {
      "image/png": "[encoded data removed]",
      "text/plain": [
       "<Figure size 864x576 with 1 Axes>"
      ]
     },
     "metadata": {
      "needs_background": "light"
     },
     "output_type": "display_data"
    }
   ],
   "source": [
    "fig, axs = plt.subplots(figsize=(12,8))\n",
    "axs.scatter(df6['Heroin Age'], df6['Hep B/C Age'], c='midnightblue', edgecolors='none', s=30)\n",
    "plt.title(\"Age of First Heroin Use vs Age of First Hepatitis Diagnosis\", fontsize=20)\n",
    "axs.set_xlabel(\"Age of First Heroin Use\", fontsize=18)\n",
    "axs.set_ylabel(\"Age of First Hepatitis B or C Diagnosis\", fontsize=18)\n",
    "axs.tick_params(labelsize=15)\n",
    "plt.text(12,-12, \"*Data Source: Center for Behavioral Health Statistics and Quality via Kaggle\", size=10)\n",
    "plt.show()\n",
    "#This created a scatterplot of age of first heroin use vs age of first hep b/c diagnosis"
   ]
  },
  {
   "cell_type": "code",
   "execution_count": 55,
   "metadata": {},
   "outputs": [
    {
     "name": "stdout",
     "output_type": "stream",
     "text": [
      "Correlation coefficient: 0.3139255960517344\n",
      "p-value: 0.010262397351997883\n"
     ]
    }
   ],
   "source": [
    "from scipy import stats\n",
    "corr = stats.pearsonr(df6['Heroin Age'], df6['Hep B/C Age'])\n",
    "print('Correlation coefficient:', corr[0])\n",
    "print('p-value:', corr[1])\n",
    "#This found a correlation for the scatterplot between heroin age and hep b/c age"
   ]
  },
  {
   "cell_type": "code",
   "execution_count": 56,
   "metadata": {},
   "outputs": [
    {
     "data": {
      "text/html": [
       "<table class=\"simpletable\">\n",
       "<caption>OLS Regression Results</caption>\n",
       "<tr>\n",
       "  <th>Dep. Variable:</th>       <td>Hep B/C Age</td>   <th>  R-squared:         </th> <td>   0.099</td>\n",
       "</tr>\n",
       "<tr>\n",
       "  <th>Model:</th>                   <td>OLS</td>       <th>  Adj. R-squared:    </th> <td>   0.084</td>\n",
       "</tr>\n",
       "<tr>\n",
       "  <th>Method:</th>             <td>Least Squares</td>  <th>  F-statistic:       </th> <td>   6.997</td>\n",
       "</tr>\n",
       "<tr>\n",
       "  <th>Date:</th>             <td>Mon, 21 Dec 2020</td> <th>  Prob (F-statistic):</th>  <td>0.0103</td> \n",
       "</tr>\n",
       "<tr>\n",
       "  <th>Time:</th>                 <td>16:26:35</td>     <th>  Log-Likelihood:    </th> <td> -256.48</td>\n",
       "</tr>\n",
       "<tr>\n",
       "  <th>No. Observations:</th>      <td>    66</td>      <th>  AIC:               </th> <td>   517.0</td>\n",
       "</tr>\n",
       "<tr>\n",
       "  <th>Df Residuals:</th>          <td>    64</td>      <th>  BIC:               </th> <td>   521.3</td>\n",
       "</tr>\n",
       "<tr>\n",
       "  <th>Df Model:</th>              <td>     1</td>      <th>                     </th>     <td> </td>   \n",
       "</tr>\n",
       "<tr>\n",
       "  <th>Covariance Type:</th>      <td>nonrobust</td>    <th>                     </th>     <td> </td>   \n",
       "</tr>\n",
       "</table>\n",
       "<table class=\"simpletable\">\n",
       "<tr>\n",
       "    <td></td>       <th>coef</th>     <th>std err</th>      <th>t</th>      <th>P>|t|</th>  <th>[0.025</th>    <th>0.975]</th>  \n",
       "</tr>\n",
       "<tr>\n",
       "  <th>const</th> <td>   16.4882</td> <td>    5.405</td> <td>    3.051</td> <td> 0.003</td> <td>    5.691</td> <td>   27.285</td>\n",
       "</tr>\n",
       "<tr>\n",
       "  <th>x1</th>    <td>    0.6379</td> <td>    0.241</td> <td>    2.645</td> <td> 0.010</td> <td>    0.156</td> <td>    1.120</td>\n",
       "</tr>\n",
       "</table>\n",
       "<table class=\"simpletable\">\n",
       "<tr>\n",
       "  <th>Omnibus:</th>       <td>12.707</td> <th>  Durbin-Watson:     </th> <td>   1.702</td>\n",
       "</tr>\n",
       "<tr>\n",
       "  <th>Prob(Omnibus):</th> <td> 0.002</td> <th>  Jarque-Bera (JB):  </th> <td>  13.677</td>\n",
       "</tr>\n",
       "<tr>\n",
       "  <th>Skew:</th>          <td> 0.931</td> <th>  Prob(JB):          </th> <td> 0.00107</td>\n",
       "</tr>\n",
       "<tr>\n",
       "  <th>Kurtosis:</th>      <td> 4.228</td> <th>  Cond. No.          </th> <td>    82.3</td>\n",
       "</tr>\n",
       "</table><br/><br/>Warnings:<br/>[1] Standard Errors assume that the covariance matrix of the errors is correctly specified."
      ],
      "text/plain": [
       "<class 'statsmodels.iolib.summary.Summary'>\n",
       "\"\"\"\n",
       "                            OLS Regression Results                            \n",
       "==============================================================================\n",
       "Dep. Variable:            Hep B/C Age   R-squared:                       0.099\n",
       "Model:                            OLS   Adj. R-squared:                  0.084\n",
       "Method:                 Least Squares   F-statistic:                     6.997\n",
       "Date:                Mon, 21 Dec 2020   Prob (F-statistic):             0.0103\n",
       "Time:                        16:26:35   Log-Likelihood:                -256.48\n",
       "No. Observations:                  66   AIC:                             517.0\n",
       "Df Residuals:                      64   BIC:                             521.3\n",
       "Df Model:                           1                                         \n",
       "Covariance Type:            nonrobust                                         \n",
       "==============================================================================\n",
       "                 coef    std err          t      P>|t|      [0.025      0.975]\n",
       "------------------------------------------------------------------------------\n",
       "const         16.4882      5.405      3.051      0.003       5.691      27.285\n",
       "x1             0.6379      0.241      2.645      0.010       0.156       1.120\n",
       "==============================================================================\n",
       "Omnibus:                       12.707   Durbin-Watson:                   1.702\n",
       "Prob(Omnibus):                  0.002   Jarque-Bera (JB):               13.677\n",
       "Skew:                           0.931   Prob(JB):                      0.00107\n",
       "Kurtosis:                       4.228   Cond. No.                         82.3\n",
       "==============================================================================\n",
       "\n",
       "Warnings:\n",
       "[1] Standard Errors assume that the covariance matrix of the errors is correctly specified.\n",
       "\"\"\""
      ]
     },
     "metadata": {},
     "output_type": "display_data"
    }
   ],
   "source": [
    "from statsmodels.regression.linear_model import OLS\n",
    "import statsmodels.api as sm\n",
    "\n",
    "x_vals = df6['Heroin Age'].values\n",
    "y_vals = df6['Hep B/C Age']\n",
    "\n",
    "reg_model = OLS(y_vals, sm.add_constant(x_vals)).fit()\n",
    "display(reg_model.summary())\n",
    "#This found a regression for the scatterplot between heroin age and hep b/c age"
   ]
  },
  {
   "cell_type": "code",
   "execution_count": 57,
   "metadata": {},
   "outputs": [],
   "source": [
    "b0 = reg_model.params[0]\n",
    "b1 = reg_model.params[1]\n",
    "x_plot = np.linspace(np.min(df6['Heroin Age']), np.max(df6['Heroin Age']), 100)\n",
    "#This helped created a trendline for the above scatterplot"
   ]
  },
  {
   "cell_type": "code",
   "execution_count": 58,
   "metadata": {},
   "outputs": [
    {
     "data": {
      "image/png": "[encoded data removed]",
      "text/plain": [
       "<Figure size 864x576 with 1 Axes>"
      ]
     },
     "metadata": {
      "needs_background": "light"
     },
     "output_type": "display_data"
    }
   ],
   "source": [
    "fig, axs = plt.subplots(figsize=(12,8))\n",
    "axs.scatter(df6['Heroin Age'], df6['Hep B/C Age'], c='midnightblue', edgecolors='none', s=30)\n",
    "plt.title(\"Age of First Heroin Use vs Age of First Hepatitis Diagnosis\", fontsize=20)\n",
    "axs.set_xlabel(\"Age of First Heroin Use\", fontsize=18)\n",
    "axs.set_ylabel(\"Age of First Hepatitis B or C Diagnosis\", fontsize=18)\n",
    "axs.tick_params(labelsize=15)\n",
    "axs.plot(x_plot, x_plot*b1 + b0, color='maroon')\n",
    "plt.text(29,47,'Predicted Hep B/C Age = 16.49 + 0.64 * Heroin Age', color='maroon',size=12)\n",
    "plt.text(12,-12, \"*Data Source: Center for Behavioral Health Statistics and Quality via Kaggle\", size=10)\n",
    "plt.show()\n",
    "#This recreated the above scatterplot (heroin age vs hep b/c age) with a trendline "
   ]
  },
  {
   "cell_type": "code",
   "execution_count": 59,
   "metadata": {},
   "outputs": [
    {
     "data": {
      "text/html": [
       "<div>\n",
       "<style scoped>\n",
       "    .dataframe tbody tr th:only-of-type {\n",
       "        vertical-align: middle;\n",
       "    }\n",
       "\n",
       "    .dataframe tbody tr th {\n",
       "        vertical-align: top;\n",
       "    }\n",
       "\n",
       "    .dataframe thead th {\n",
       "        text-align: right;\n",
       "    }\n",
       "</style>\n",
       "<table border=\"1\" class=\"dataframe\">\n",
       "  <thead>\n",
       "    <tr style=\"text-align: right;\">\n",
       "      <th></th>\n",
       "      <th>Heroin Ever</th>\n",
       "      <th>Hep B/C Ever</th>\n",
       "    </tr>\n",
       "  </thead>\n",
       "  <tbody>\n",
       "    <tr>\n",
       "      <th>3</th>\n",
       "      <td>Yes</td>\n",
       "      <td>No</td>\n",
       "    </tr>\n",
       "    <tr>\n",
       "      <th>11</th>\n",
       "      <td>No</td>\n",
       "      <td>No</td>\n",
       "    </tr>\n",
       "    <tr>\n",
       "      <th>12</th>\n",
       "      <td>No</td>\n",
       "      <td>No</td>\n",
       "    </tr>\n",
       "    <tr>\n",
       "      <th>13</th>\n",
       "      <td>No</td>\n",
       "      <td>No</td>\n",
       "    </tr>\n",
       "    <tr>\n",
       "      <th>24</th>\n",
       "      <td>No</td>\n",
       "      <td>No</td>\n",
       "    </tr>\n",
       "    <tr>\n",
       "      <th>...</th>\n",
       "      <td>...</td>\n",
       "      <td>...</td>\n",
       "    </tr>\n",
       "    <tr>\n",
       "      <th>30758</th>\n",
       "      <td>No</td>\n",
       "      <td>No</td>\n",
       "    </tr>\n",
       "    <tr>\n",
       "      <th>30759</th>\n",
       "      <td>No</td>\n",
       "      <td>No</td>\n",
       "    </tr>\n",
       "    <tr>\n",
       "      <th>30760</th>\n",
       "      <td>No</td>\n",
       "      <td>No</td>\n",
       "    </tr>\n",
       "    <tr>\n",
       "      <th>30761</th>\n",
       "      <td>No</td>\n",
       "      <td>No</td>\n",
       "    </tr>\n",
       "    <tr>\n",
       "      <th>30763</th>\n",
       "      <td>No</td>\n",
       "      <td>No</td>\n",
       "    </tr>\n",
       "  </tbody>\n",
       "</table>\n",
       "<p>8636 rows × 2 columns</p>\n",
       "</div>"
      ],
      "text/plain": [
       "      Heroin Ever Hep B/C Ever\n",
       "3             Yes           No\n",
       "11             No           No\n",
       "12             No           No\n",
       "13             No           No\n",
       "24             No           No\n",
       "...           ...          ...\n",
       "30758          No           No\n",
       "30759          No           No\n",
       "30760          No           No\n",
       "30761          No           No\n",
       "30763          No           No\n",
       "\n",
       "[8636 rows x 2 columns]"
      ]
     },
     "execution_count": 59,
     "metadata": {},
     "output_type": "execute_result"
    }
   ],
   "source": [
    "df7=df[['Heroin Ever','Hep B/C Ever']]\n",
    "df7=df7.dropna()\n",
    "df7\n",
    "#This found necessary columns and dropped NaNs to compare heroin use and hep b/c positivity"
   ]
  },
  {
   "cell_type": "code",
   "execution_count": 60,
   "metadata": {
    "scrolled": true
   },
   "outputs": [
    {
     "data": {
      "text/html": [
       "<div>\n",
       "<style scoped>\n",
       "    .dataframe tbody tr th:only-of-type {\n",
       "        vertical-align: middle;\n",
       "    }\n",
       "\n",
       "    .dataframe tbody tr th {\n",
       "        vertical-align: top;\n",
       "    }\n",
       "\n",
       "    .dataframe thead th {\n",
       "        text-align: right;\n",
       "    }\n",
       "</style>\n",
       "<table border=\"1\" class=\"dataframe\">\n",
       "  <thead>\n",
       "    <tr style=\"text-align: right;\">\n",
       "      <th>Heroin Ever</th>\n",
       "      <th>No</th>\n",
       "      <th>Yes</th>\n",
       "    </tr>\n",
       "    <tr>\n",
       "      <th>Hep B/C Ever</th>\n",
       "      <th></th>\n",
       "      <th></th>\n",
       "    </tr>\n",
       "  </thead>\n",
       "  <tbody>\n",
       "    <tr>\n",
       "      <th>No</th>\n",
       "      <td>8271.000000</td>\n",
       "      <td>131.000000</td>\n",
       "    </tr>\n",
       "    <tr>\n",
       "      <th>Yes</th>\n",
       "      <td>164.000000</td>\n",
       "      <td>70.000000</td>\n",
       "    </tr>\n",
       "    <tr>\n",
       "      <th>Total</th>\n",
       "      <td>8435.000000</td>\n",
       "      <td>201.000000</td>\n",
       "    </tr>\n",
       "    <tr>\n",
       "      <th>HBC_per</th>\n",
       "      <td>0.019443</td>\n",
       "      <td>0.348259</td>\n",
       "    </tr>\n",
       "    <tr>\n",
       "      <th>NoHBC_per</th>\n",
       "      <td>0.980557</td>\n",
       "      <td>0.651741</td>\n",
       "    </tr>\n",
       "    <tr>\n",
       "      <th>HBC%</th>\n",
       "      <td>1.944280</td>\n",
       "      <td>34.825871</td>\n",
       "    </tr>\n",
       "    <tr>\n",
       "      <th>NoHBC%</th>\n",
       "      <td>98.055720</td>\n",
       "      <td>65.174129</td>\n",
       "    </tr>\n",
       "  </tbody>\n",
       "</table>\n",
       "</div>"
      ],
      "text/plain": [
       "Heroin Ever            No         Yes\n",
       "Hep B/C Ever                         \n",
       "No            8271.000000  131.000000\n",
       "Yes            164.000000   70.000000\n",
       "Total         8435.000000  201.000000\n",
       "HBC_per          0.019443    0.348259\n",
       "NoHBC_per        0.980557    0.651741\n",
       "HBC%             1.944280   34.825871\n",
       "NoHBC%          98.055720   65.174129"
      ]
     },
     "execution_count": 60,
     "metadata": {},
     "output_type": "execute_result"
    }
   ],
   "source": [
    "table7 = pd.crosstab(index=df7[\"Heroin Ever\"], columns=df7[\"Hep B/C Ever\"]) \n",
    "\n",
    "table7['Total'] = table7['No'] + table7['Yes']\n",
    "table7['HBC_per'] = table7['Yes'] / table7['Total']\n",
    "table7['NoHBC_per'] = table7['No'] / table7['Total']\n",
    "table7['HBC%']= table7['HBC_per']*100\n",
    "table7['NoHBC%']= table7['NoHBC_per']*100\n",
    "\n",
    "table7=table7.transpose()\n",
    "table7\n",
    "#This created a table, found comparable percentages, and transposed the table to compare heroin age and hep b/c age"
   ]
  },
  {
   "cell_type": "code",
   "execution_count": 61,
   "metadata": {},
   "outputs": [],
   "source": [
    "hbc=['1.94%','34.83%']\n",
    "#This created rounded values to be used as labels in the below bar chart"
   ]
  },
  {
   "cell_type": "code",
   "execution_count": 62,
   "metadata": {},
   "outputs": [
    {
     "data": {
      "image/png": "[encoded data removed]",
      "text/plain": [
       "<Figure size 360x504 with 1 Axes>"
      ]
     },
     "metadata": {
      "needs_background": "light"
     },
     "output_type": "display_data"
    }
   ],
   "source": [
    "label = ['Non-Heroin Users','Heroin Users']\n",
    "y_value1 = table7.loc['NoHBC%']\n",
    "y_value2 = table7.loc['HBC%']\n",
    "\n",
    "fig, axs = plt.subplots(figsize=(5,7))      \n",
    "p1 = axs.bar(label, y_value1, color='dimgrey', width=0.45)     \n",
    "# Don't forget the bottom from p2\n",
    "p2 = axs.bar(label, y_value2, color='dodgerblue', bottom=y_value1, width=0.45)\n",
    "\n",
    "\n",
    "axs.set_title(\"Percentage of People with Hepatitis B or C by Heroin Use Status\", \n",
    "              fontsize=20, fontweight=\"bold\", pad=20)   \n",
    "axs.set_xlabel(\"\", fontsize=16)\n",
    "axs.set_ylabel(\"Percentage\", fontsize=16)\n",
    "axs.tick_params(labelsize=14)  \n",
    "axs.legend((p2[0],p1[0]),('Ever Hepatitis B or C Positive','Never Hepatitis B/C Positive'),\n",
    "          bbox_to_anchor=(1.05, 0.8))\n",
    "plt.text(-.3,-11, \"*Data Source: Center for Behavioral Health Statistics and Quality via Kaggle\", size=10)\n",
    "for i in range(len(y_value2)):\n",
    "    plt.text(i-.15,y_value1[i]+y_value2[i]+1, str(hbc[i]), color='dodgerblue', size=16)\n",
    "             \n",
    "plt.show() \n",
    "#This created a stacked bar chart comparing heroin use and hep b/c positivity"
   ]
  },
  {
   "cell_type": "code",
   "execution_count": 63,
   "metadata": {},
   "outputs": [
    {
     "name": "stdout",
     "output_type": "stream",
     "text": [
      "Sample proportion is: 0.3482587064676617\n",
      "95% CI is: (0.28239492627093576, 0.41412248666438767)\n"
     ]
    }
   ],
   "source": [
    "CI_prop(70,201)\n",
    "#This found CI of prop of hep b/c pos for heroin users"
   ]
  },
  {
   "cell_type": "code",
   "execution_count": 64,
   "metadata": {},
   "outputs": [
    {
     "name": "stdout",
     "output_type": "stream",
     "text": [
      "Sample proportion is: 0.01944279786603438\n",
      "95% CI is: (0.01649614229198195, 0.02238945344008681)\n"
     ]
    }
   ],
   "source": [
    "CI_prop(164,8435)\n",
    "#This found CI of prop of hep b/c pos for non users"
   ]
  },
  {
   "cell_type": "code",
   "execution_count": 65,
   "metadata": {},
   "outputs": [
    {
     "name": "stdout",
     "output_type": "stream",
     "text": [
      "Proportion difference is: 0.32881590860162735\n",
      "95% CI is: (0.262886246681709, 0.3947455705215457)\n"
     ]
    }
   ],
   "source": [
    "CI_prop_diff(70,164,201,8435)\n",
    "#This found CI of prop diff in hep b/c positivity between users and non users"
   ]
  },
  {
   "cell_type": "code",
   "execution_count": 66,
   "metadata": {},
   "outputs": [],
   "source": [
    "table7a = pd.crosstab(index=df7[\"Heroin Ever\"], columns=df7[\"Hep B/C Ever\"]) \n",
    "#This recreted the table to find the p value regarding an association between heroin use and hep b/c positivity"
   ]
  },
  {
   "cell_type": "code",
   "execution_count": 67,
   "metadata": {},
   "outputs": [
    {
     "name": "stdout",
     "output_type": "stream",
     "text": [
      "chi2: 792.769717334136\n",
      "p: 2.014019188089385e-174\n",
      "dof: 1\n",
      "expected: [[8.20644627e+03 2.28553729e+02]\n",
      " [1.95553729e+02 5.44627142e+00]]\n"
     ]
    }
   ],
   "source": [
    "from scipy import stats\n",
    "\n",
    "chi2, p, dof, expected = stats.chi2_contingency(table7a)\n",
    "\n",
    "print(\"chi2:\", chi2)\n",
    "print(\"p:\", p)\n",
    "print(\"dof:\", dof)\n",
    "print(\"expected:\", expected)\n",
    "#This found the p value regarding an association between heroin use and hep b/c positivity"
   ]
  },
  {
   "cell_type": "code",
   "execution_count": 68,
   "metadata": {},
   "outputs": [
    {
     "data": {
      "text/html": [
       "<div>\n",
       "<style scoped>\n",
       "    .dataframe tbody tr th:only-of-type {\n",
       "        vertical-align: middle;\n",
       "    }\n",
       "\n",
       "    .dataframe tbody tr th {\n",
       "        vertical-align: top;\n",
       "    }\n",
       "\n",
       "    .dataframe thead th {\n",
       "        text-align: right;\n",
       "    }\n",
       "</style>\n",
       "<table border=\"1\" class=\"dataframe\">\n",
       "  <thead>\n",
       "    <tr style=\"text-align: right;\">\n",
       "      <th></th>\n",
       "      <th>Heroin Ever</th>\n",
       "      <th>Below Poverty</th>\n",
       "    </tr>\n",
       "  </thead>\n",
       "  <tbody>\n",
       "    <tr>\n",
       "      <th>0</th>\n",
       "      <td>No</td>\n",
       "      <td>Yes</td>\n",
       "    </tr>\n",
       "    <tr>\n",
       "      <th>1</th>\n",
       "      <td>No</td>\n",
       "      <td>No</td>\n",
       "    </tr>\n",
       "    <tr>\n",
       "      <th>2</th>\n",
       "      <td>No</td>\n",
       "      <td>No</td>\n",
       "    </tr>\n",
       "    <tr>\n",
       "      <th>3</th>\n",
       "      <td>Yes</td>\n",
       "      <td>No</td>\n",
       "    </tr>\n",
       "    <tr>\n",
       "      <th>4</th>\n",
       "      <td>No</td>\n",
       "      <td>No</td>\n",
       "    </tr>\n",
       "    <tr>\n",
       "      <th>...</th>\n",
       "      <td>...</td>\n",
       "      <td>...</td>\n",
       "    </tr>\n",
       "    <tr>\n",
       "      <th>30762</th>\n",
       "      <td>No</td>\n",
       "      <td>No</td>\n",
       "    </tr>\n",
       "    <tr>\n",
       "      <th>30763</th>\n",
       "      <td>No</td>\n",
       "      <td>Yes</td>\n",
       "    </tr>\n",
       "    <tr>\n",
       "      <th>30764</th>\n",
       "      <td>No</td>\n",
       "      <td>No</td>\n",
       "    </tr>\n",
       "    <tr>\n",
       "      <th>30765</th>\n",
       "      <td>No</td>\n",
       "      <td>No</td>\n",
       "    </tr>\n",
       "    <tr>\n",
       "      <th>30766</th>\n",
       "      <td>No</td>\n",
       "      <td>No</td>\n",
       "    </tr>\n",
       "  </tbody>\n",
       "</table>\n",
       "<p>30653 rows × 2 columns</p>\n",
       "</div>"
      ],
      "text/plain": [
       "      Heroin Ever Below Poverty \n",
       "0              No            Yes\n",
       "1              No             No\n",
       "2              No             No\n",
       "3             Yes             No\n",
       "4              No             No\n",
       "...           ...            ...\n",
       "30762          No             No\n",
       "30763          No            Yes\n",
       "30764          No             No\n",
       "30765          No             No\n",
       "30766          No             No\n",
       "\n",
       "[30653 rows x 2 columns]"
      ]
     },
     "execution_count": 68,
     "metadata": {},
     "output_type": "execute_result"
    }
   ],
   "source": [
    "df9=df[['Heroin Ever','Below Poverty ']]\n",
    "df9=df9.dropna()\n",
    "df9\n",
    "#This found necessary columns and dropped NaNs to compare heroin use and proportion of people below poverty level"
   ]
  },
  {
   "cell_type": "code",
   "execution_count": 69,
   "metadata": {},
   "outputs": [
    {
     "data": {
      "text/html": [
       "<div>\n",
       "<style scoped>\n",
       "    .dataframe tbody tr th:only-of-type {\n",
       "        vertical-align: middle;\n",
       "    }\n",
       "\n",
       "    .dataframe tbody tr th {\n",
       "        vertical-align: top;\n",
       "    }\n",
       "\n",
       "    .dataframe thead th {\n",
       "        text-align: right;\n",
       "    }\n",
       "</style>\n",
       "<table border=\"1\" class=\"dataframe\">\n",
       "  <thead>\n",
       "    <tr style=\"text-align: right;\">\n",
       "      <th>Below Poverty</th>\n",
       "      <th>No</th>\n",
       "      <th>Yes</th>\n",
       "      <th>Total</th>\n",
       "      <th>below_per</th>\n",
       "      <th>above_per</th>\n",
       "    </tr>\n",
       "    <tr>\n",
       "      <th>Heroin Ever</th>\n",
       "      <th></th>\n",
       "      <th></th>\n",
       "      <th></th>\n",
       "      <th></th>\n",
       "      <th></th>\n",
       "    </tr>\n",
       "  </thead>\n",
       "  <tbody>\n",
       "    <tr>\n",
       "      <th>No</th>\n",
       "      <td>24247</td>\n",
       "      <td>5906</td>\n",
       "      <td>30153</td>\n",
       "      <td>0.195868</td>\n",
       "      <td>0.804132</td>\n",
       "    </tr>\n",
       "    <tr>\n",
       "      <th>Yes</th>\n",
       "      <td>371</td>\n",
       "      <td>129</td>\n",
       "      <td>500</td>\n",
       "      <td>0.258000</td>\n",
       "      <td>0.742000</td>\n",
       "    </tr>\n",
       "  </tbody>\n",
       "</table>\n",
       "</div>"
      ],
      "text/plain": [
       "Below Poverty      No   Yes  Total  below_per  above_per\n",
       "Heroin Ever                                             \n",
       "No              24247  5906  30153   0.195868   0.804132\n",
       "Yes               371   129    500   0.258000   0.742000"
      ]
     },
     "execution_count": 69,
     "metadata": {},
     "output_type": "execute_result"
    }
   ],
   "source": [
    "table9=pd.crosstab(index=df9[\"Heroin Ever\"], columns=df9[\"Below Poverty \"]) \n",
    "table9['Total'] = table9['No'] + table9['Yes']\n",
    "table9['below_per'] = table9['Yes'] / table9['Total']\n",
    "table9['above_per'] = table9['No'] / table9['Total']\n",
    "table9\n",
    "#This created a table to compare heroin use and whether people are above or below the poverty level"
   ]
  },
  {
   "cell_type": "code",
   "execution_count": 70,
   "metadata": {},
   "outputs": [
    {
     "data": {
      "text/plain": [
       "[1.0, 1.3172136336716564]"
      ]
     },
     "execution_count": 70,
     "metadata": {},
     "output_type": "execute_result"
    }
   ],
   "source": [
    "below_prop=[0.195868,0.258000]\n",
    "non=below_prop[0]\n",
    "relative=[]\n",
    "\n",
    "for i in range(len(below_prop)):\n",
    "    j= below_prop[i] / non\n",
    "    relative.append(j)\n",
    "relative\n",
    "#This changed the proportions into relative values, concerning being below the poverty level,\n",
    "#with non-users as a base of one"
   ]
  },
  {
   "cell_type": "code",
   "execution_count": 71,
   "metadata": {},
   "outputs": [
    {
     "data": {
      "image/png": "[encoded data removed]",
      "text/plain": [
       "<Figure size 576x288 with 1 Axes>"
      ]
     },
     "metadata": {
      "needs_background": "light"
     },
     "output_type": "display_data"
    }
   ],
   "source": [
    "y_values=relative\n",
    "x_values=['Non-Heroin User', 'Heroin User']\n",
    "\n",
    "np.random.seed(19680801)\n",
    "\n",
    "fig, axs = plt.subplots(figsize=(8,4)) # Change the figure size here       \n",
    "axs.barh(x_values, y_values, color=('midnightblue','dodgerblue')) # You specify the color here     \n",
    "axs.set_title(\"Relative Proportion of People Below Poverty Level by Heroin Use\", fontsize=22, fontweight=\"bold\")   \n",
    "axs.set_xlabel(\"Relative Proportion Below Poverty Level\", fontsize=16)\n",
    "axs.set_ylabel(\"Heroin Use\", fontsize=16)\n",
    "axs.tick_params(labelsize=16)   \n",
    "\n",
    "axs.spines['right'].set_visible(False)\n",
    "axs.spines['top'].set_visible(False)\n",
    "axs.spines['left'].set_visible(False)\n",
    "axs.spines['bottom'].set_visible(False)\n",
    "\n",
    "plt.text(0.88,0,'1.0',color='white',va='center',size=18)\n",
    "plt.text(1.2,1,'1.3',color='black',va='center',size=18)\n",
    "plt.text(.1,-1.2, \"*Data Source: Center for Behavioral Health Statistics and Quality via Kaggle\", size=10)\n",
    "plt.grid(axis='x')\n",
    "\n",
    "\n",
    "plt.show()\n",
    "#This created a horizontal bar chart that compared proportions between heroin users and non-heroin users"
   ]
  },
  {
   "cell_type": "code",
   "execution_count": 72,
   "metadata": {},
   "outputs": [
    {
     "data": {
      "text/html": [
       "<div>\n",
       "<style scoped>\n",
       "    .dataframe tbody tr th:only-of-type {\n",
       "        vertical-align: middle;\n",
       "    }\n",
       "\n",
       "    .dataframe tbody tr th {\n",
       "        vertical-align: top;\n",
       "    }\n",
       "\n",
       "    .dataframe thead th {\n",
       "        text-align: right;\n",
       "    }\n",
       "</style>\n",
       "<table border=\"1\" class=\"dataframe\">\n",
       "  <thead>\n",
       "    <tr style=\"text-align: right;\">\n",
       "      <th></th>\n",
       "      <th>Heroin Ever</th>\n",
       "      <th>Employment</th>\n",
       "    </tr>\n",
       "  </thead>\n",
       "  <tbody>\n",
       "    <tr>\n",
       "      <th>0</th>\n",
       "      <td>No</td>\n",
       "      <td>Full Time</td>\n",
       "    </tr>\n",
       "    <tr>\n",
       "      <th>1</th>\n",
       "      <td>No</td>\n",
       "      <td>Part Time</td>\n",
       "    </tr>\n",
       "    <tr>\n",
       "      <th>2</th>\n",
       "      <td>No</td>\n",
       "      <td>Part Time</td>\n",
       "    </tr>\n",
       "    <tr>\n",
       "      <th>3</th>\n",
       "      <td>Yes</td>\n",
       "      <td>Full Time</td>\n",
       "    </tr>\n",
       "    <tr>\n",
       "      <th>5</th>\n",
       "      <td>No</td>\n",
       "      <td>Full Time</td>\n",
       "    </tr>\n",
       "    <tr>\n",
       "      <th>...</th>\n",
       "      <td>...</td>\n",
       "      <td>...</td>\n",
       "    </tr>\n",
       "    <tr>\n",
       "      <th>30762</th>\n",
       "      <td>No</td>\n",
       "      <td>Full Time</td>\n",
       "    </tr>\n",
       "    <tr>\n",
       "      <th>30763</th>\n",
       "      <td>No</td>\n",
       "      <td>Part Time</td>\n",
       "    </tr>\n",
       "    <tr>\n",
       "      <th>30764</th>\n",
       "      <td>No</td>\n",
       "      <td>Full Time</td>\n",
       "    </tr>\n",
       "    <tr>\n",
       "      <th>30765</th>\n",
       "      <td>No</td>\n",
       "      <td>Part Time</td>\n",
       "    </tr>\n",
       "    <tr>\n",
       "      <th>30766</th>\n",
       "      <td>No</td>\n",
       "      <td>Unemployed</td>\n",
       "    </tr>\n",
       "  </tbody>\n",
       "</table>\n",
       "<p>16923 rows × 2 columns</p>\n",
       "</div>"
      ],
      "text/plain": [
       "      Heroin Ever  Employment\n",
       "0              No   Full Time\n",
       "1              No   Part Time\n",
       "2              No   Part Time\n",
       "3             Yes   Full Time\n",
       "5              No   Full Time\n",
       "...           ...         ...\n",
       "30762          No   Full Time\n",
       "30763          No   Part Time\n",
       "30764          No   Full Time\n",
       "30765          No   Part Time\n",
       "30766          No  Unemployed\n",
       "\n",
       "[16923 rows x 2 columns]"
      ]
     },
     "execution_count": 72,
     "metadata": {},
     "output_type": "execute_result"
    }
   ],
   "source": [
    "df10=df[['Heroin Ever','Employment']]\n",
    "df10=df10.dropna()\n",
    "df10\n",
    "#This got relevant variables and dropped NaNs to look at heroin use and employment status"
   ]
  },
  {
   "cell_type": "code",
   "execution_count": 73,
   "metadata": {},
   "outputs": [
    {
     "data": {
      "text/html": [
       "<div>\n",
       "<style scoped>\n",
       "    .dataframe tbody tr th:only-of-type {\n",
       "        vertical-align: middle;\n",
       "    }\n",
       "\n",
       "    .dataframe tbody tr th {\n",
       "        vertical-align: top;\n",
       "    }\n",
       "\n",
       "    .dataframe thead th {\n",
       "        text-align: right;\n",
       "    }\n",
       "</style>\n",
       "<table border=\"1\" class=\"dataframe\">\n",
       "  <thead>\n",
       "    <tr style=\"text-align: right;\">\n",
       "      <th>Employment</th>\n",
       "      <th>Full Time</th>\n",
       "      <th>Part Time</th>\n",
       "      <th>Unemployed</th>\n",
       "    </tr>\n",
       "    <tr>\n",
       "      <th>Heroin Ever</th>\n",
       "      <th></th>\n",
       "      <th></th>\n",
       "      <th></th>\n",
       "    </tr>\n",
       "  </thead>\n",
       "  <tbody>\n",
       "    <tr>\n",
       "      <th>No</th>\n",
       "      <td>11668</td>\n",
       "      <td>3576</td>\n",
       "      <td>1328</td>\n",
       "    </tr>\n",
       "    <tr>\n",
       "      <th>Yes</th>\n",
       "      <td>224</td>\n",
       "      <td>70</td>\n",
       "      <td>57</td>\n",
       "    </tr>\n",
       "  </tbody>\n",
       "</table>\n",
       "</div>"
      ],
      "text/plain": [
       "Employment   Full Time  Part Time  Unemployed\n",
       "Heroin Ever                                  \n",
       "No               11668       3576        1328\n",
       "Yes                224         70          57"
      ]
     },
     "execution_count": 73,
     "metadata": {},
     "output_type": "execute_result"
    }
   ],
   "source": [
    "table10=pd.crosstab(index=df10[\"Heroin Ever\"], columns=df10[\"Employment\"]) \n",
    "\n",
    "table10\n",
    "#This created a table about employment status by heroin use"
   ]
  },
  {
   "cell_type": "code",
   "execution_count": 74,
   "metadata": {},
   "outputs": [
    {
     "data": {
      "text/html": [
       "<div>\n",
       "<style scoped>\n",
       "    .dataframe tbody tr th:only-of-type {\n",
       "        vertical-align: middle;\n",
       "    }\n",
       "\n",
       "    .dataframe tbody tr th {\n",
       "        vertical-align: top;\n",
       "    }\n",
       "\n",
       "    .dataframe thead th {\n",
       "        text-align: right;\n",
       "    }\n",
       "</style>\n",
       "<table border=\"1\" class=\"dataframe\">\n",
       "  <thead>\n",
       "    <tr style=\"text-align: right;\">\n",
       "      <th>Employment</th>\n",
       "      <th>Full Time</th>\n",
       "      <th>Part Time</th>\n",
       "      <th>Unemployed</th>\n",
       "      <th>Total</th>\n",
       "      <th>full_per</th>\n",
       "      <th>part_per</th>\n",
       "      <th>un_per</th>\n",
       "    </tr>\n",
       "    <tr>\n",
       "      <th>Heroin Ever</th>\n",
       "      <th></th>\n",
       "      <th></th>\n",
       "      <th></th>\n",
       "      <th></th>\n",
       "      <th></th>\n",
       "      <th></th>\n",
       "      <th></th>\n",
       "    </tr>\n",
       "  </thead>\n",
       "  <tbody>\n",
       "    <tr>\n",
       "      <th>No</th>\n",
       "      <td>11668</td>\n",
       "      <td>3576</td>\n",
       "      <td>1328</td>\n",
       "      <td>16572</td>\n",
       "      <td>0.704079</td>\n",
       "      <td>0.215786</td>\n",
       "      <td>0.080135</td>\n",
       "    </tr>\n",
       "    <tr>\n",
       "      <th>Yes</th>\n",
       "      <td>224</td>\n",
       "      <td>70</td>\n",
       "      <td>57</td>\n",
       "      <td>351</td>\n",
       "      <td>0.638177</td>\n",
       "      <td>0.199430</td>\n",
       "      <td>0.162393</td>\n",
       "    </tr>\n",
       "  </tbody>\n",
       "</table>\n",
       "</div>"
      ],
      "text/plain": [
       "Employment   Full Time  Part Time  Unemployed  Total  full_per  part_per  \\\n",
       "Heroin Ever                                                                \n",
       "No               11668       3576        1328  16572  0.704079  0.215786   \n",
       "Yes                224         70          57    351  0.638177  0.199430   \n",
       "\n",
       "Employment     un_per  \n",
       "Heroin Ever            \n",
       "No           0.080135  \n",
       "Yes          0.162393  "
      ]
     },
     "execution_count": 74,
     "metadata": {},
     "output_type": "execute_result"
    }
   ],
   "source": [
    "table10['Total'] = table10['Full Time'] + table10['Part Time'] + table10['Unemployed']\n",
    "table10['full_per'] = table10['Full Time'] / table10['Total']\n",
    "table10['part_per'] = table10['Part Time'] / table10['Total']\n",
    "table10['un_per'] = table10['Unemployed'] / table10['Total']\n",
    "table10\n",
    "#This found proportions on the tables to compare employment statuses"
   ]
  },
  {
   "cell_type": "code",
   "execution_count": 75,
   "metadata": {},
   "outputs": [
    {
     "data": {
      "image/png": "[encoded data removed]",
      "text/plain": [
       "<Figure size 720x432 with 1 Axes>"
      ]
     },
     "metadata": {
      "needs_background": "light"
     },
     "output_type": "display_data"
    }
   ],
   "source": [
    "labels = ['Non-Heroin User','Heroin User'] \n",
    "y_value1 = table10['full_per'] \n",
    "y_value2 = table10['part_per'] \n",
    "y_value3 = table10['un_per'] \n",
    "\n",
    "x = np.arange(len(labels))\n",
    "width = 0.2  \n",
    "\n",
    "fig, ax = plt.subplots(figsize=(10,6))\n",
    "ax.bar(x, y_value1, width, label='Full Time',color='slategrey')\n",
    "ax.bar(x + width, y_value2, width, label='Part Time',color='rebeccapurple')\n",
    "ax.bar(x + 2 * width, y_value3, width, label='Unemployed',color='dodgerblue')\n",
    "\n",
    "\n",
    "ax.set_ylabel('Proportion', fontsize=16)\n",
    "ax.set_xlabel('Heroin Use', fontsize=16)\n",
    "ax.set_title('Employment Status by Heroin Use',fontsize=20, fontweight='bold')\n",
    "ax.set_xticks(x)\n",
    "ax.set_xticklabels(labels, fontsize=12)\n",
    "ax.legend()\n",
    "\n",
    "plt.text(.34,0.09, '0.08', color='dodgerblue', size=16)\n",
    "plt.text(1.34,0.17, '0.16', color='dodgerblue', size=16)\n",
    "plt.text(-.1,-.12, \"*Data Source: Center for Behavioral Health Statistics and Quality via Kaggle\", size=10)\n",
    "\n",
    "plt.show()\n",
    "#This created a group bar chart of employment status by heroin use"
   ]
  },
  {
   "cell_type": "code",
   "execution_count": null,
   "metadata": {},
   "outputs": [],
   "source": []
  }
 ],
 "metadata": {
  "kernelspec": {
   "display_name": "Python 3",
   "language": "python",
   "name": "python3"
  },
  "language_info": {
   "codemirror_mode": {
    "name": "ipython",
    "version": 3
   },
   "file_extension": ".py",
   "mimetype": "text/x-python",
   "name": "python",
   "nbconvert_exporter": "python",
   "pygments_lexer": "ipython3",
   "version": "3.8.3"
  }
 },
 "nbformat": 4,
 "nbformat_minor": 4
}
